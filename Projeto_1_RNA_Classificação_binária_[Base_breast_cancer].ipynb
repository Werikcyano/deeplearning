{
  "nbformat": 4,
  "nbformat_minor": 0,
  "metadata": {
    "colab": {
      "name": "Projeto_1_RNA_Classificação_binária_[Base_breast_cancer].ipynb",
      "provenance": [],
      "collapsed_sections": [
        "alyTJqXKwWYL",
        "VmyHcNi2wSmR",
        "cosZpn8R1zTR",
        "U3ngOEd78e9F",
        "s_iho955FzKO",
        "80vyJ32MI8QT",
        "Yi9Q8103QKDT"
      ],
      "authorship_tag": "ABX9TyPwSBou7YYiF7DkSVoV+F3Q",
      "include_colab_link": true
    },
    "kernelspec": {
      "name": "python3",
      "display_name": "Python 3"
    },
    "language_info": {
      "name": "python"
    },
    "accelerator": "GPU"
  },
  "cells": [
    {
      "cell_type": "markdown",
      "metadata": {
        "id": "view-in-github",
        "colab_type": "text"
      },
      "source": [
        "<a href=\"https://colab.research.google.com/github/Werikcyano/deeplearning/blob/main/Projeto_1_RNA_Classifica%C3%A7%C3%A3o_bin%C3%A1ria_%5BBase_breast_cancer%5D.ipynb\" target=\"_parent\"><img src=\"https://colab.research.google.com/assets/colab-badge.svg\" alt=\"Open In Colab\"/></a>"
      ]
    },
    {
      "cell_type": "markdown",
      "metadata": {
        "id": "ve3hpzxPm_Dx"
      },
      "source": [
        "#Conteúdo \n",
        "---\n",
        "##1. Redes Neurais Artificiais\n",
        "> Classificação e regressão\n",
        "\n",
        "##2. Redes Neurais Convolucionais\n",
        ">Classificação de imagens\n",
        "\n",
        "##3. Autoencoders\n",
        ">Compactação de imagens\n",
        "\n",
        ">Redução de dimensionalidade  \n",
        "\n",
        "##4. Redes Adversárias Generativas (GANs)\n",
        ">Geração de novas imagens\n",
        "\n",
        "##5. Transferência de Aprendizagem\n",
        ">Classificação de objetos\n",
        "\n",
        "##6. Transferência de Estilo\n",
        ">Mesclar estilos de pinturas e fotos\n",
        "\n",
        "\n",
        "\n"
      ]
    },
    {
      "cell_type": "markdown",
      "metadata": {
        "id": "_rlWcTwcr6_A"
      },
      "source": [
        "#Parte 1 - Redes Neurais Artificiais \n",
        "---\n",
        "###1. Projeto 1: Classificação binária [Base breast cancer]\n",
        "####1.1 Etapas:\n",
        ">* Etapa 1 - Importação das bibliotecas\n",
        ">* Etapa 2 - Base de dados\n",
        ">* Etapa 3 - Transformação de dados para tensores\n",
        ">* Etapa 4 - Construção de Modelos\n",
        ">* Etapa 5 - Treinamento de modelos\n",
        ">* Etapa 6 - Visualização dos pesos\n",
        ">* Etapa 7 - Avaliação do modelo\n"
      ]
    },
    {
      "cell_type": "markdown",
      "metadata": {
        "id": "_LvaYuqQudmn"
      },
      "source": [
        "#Projeto 1\n",
        "---"
      ]
    },
    {
      "cell_type": "markdown",
      "metadata": {
        "id": "alyTJqXKwWYL"
      },
      "source": [
        ">### Etapa 1 - Importação das bibliotecas"
      ]
    },
    {
      "cell_type": "code",
      "metadata": {
        "id": "lhOlZJztwjk8"
      },
      "source": [
        "import pandas as pd\n",
        "from sklearn.model_selection import train_test_split\n",
        "import numpy as np\n",
        "import seaborn as sns\n",
        "from sklearn.metrics import confusion_matrix, accuracy_score"
      ],
      "execution_count": 71,
      "outputs": []
    },
    {
      "cell_type": "code",
      "metadata": {
        "colab": {
          "base_uri": "https://localhost:8080/",
          "height": 0
        },
        "id": "bpjEuO67wl1D",
        "outputId": "bb9a3a8a-d6ee-4ac2-be85-b174b3b7a2a2"
      },
      "source": [
        "#no colab o pytorch já vem instalado \n",
        "#mas para outros ambientes é bem provável que seja necessária a instalação\n",
        "import torch\n",
        "torch.__version__\n",
        "#caso precise fazer o downgrade \n",
        "#!pip install torch==1.4.0"
      ],
      "execution_count": 72,
      "outputs": [
        {
          "output_type": "execute_result",
          "data": {
            "application/vnd.google.colaboratory.intrinsic+json": {
              "type": "string"
            },
            "text/plain": [
              "'1.9.0+cu102'"
            ]
          },
          "metadata": {},
          "execution_count": 72
        }
      ]
    },
    {
      "cell_type": "code",
      "metadata": {
        "id": "sh5ZqPzdwp57"
      },
      "source": [
        "import torch.nn as nn"
      ],
      "execution_count": 73,
      "outputs": []
    },
    {
      "cell_type": "markdown",
      "metadata": {
        "id": "VmyHcNi2wSmR"
      },
      "source": [
        ">### Etapa 2 - Base de Dados"
      ]
    },
    {
      "cell_type": "code",
      "metadata": {
        "colab": {
          "base_uri": "https://localhost:8080/"
        },
        "id": "KPo5uvcQxI_u",
        "outputId": "cbb793f4-ccd4-4efd-a823-01d90df16597"
      },
      "source": [
        "np.random.seed(123)\n",
        "torch.manual_seed(123)"
      ],
      "execution_count": 74,
      "outputs": [
        {
          "output_type": "execute_result",
          "data": {
            "text/plain": [
              "<torch._C.Generator at 0x7ff41ae1ae50>"
            ]
          },
          "metadata": {},
          "execution_count": 74
        }
      ]
    },
    {
      "cell_type": "code",
      "metadata": {
        "id": "kgjjVwufyVma"
      },
      "source": [
        "previsores = pd.read_csv('/content/entradas_breast.csv')\n",
        "classe = pd.read_csv('/content/saidas_breast.csv')"
      ],
      "execution_count": 75,
      "outputs": []
    },
    {
      "cell_type": "code",
      "metadata": {
        "colab": {
          "base_uri": "https://localhost:8080/"
        },
        "id": "vNVd_I1sym9I",
        "outputId": "cee341c9-a949-4d1a-dd55-3e9b98adc015"
      },
      "source": [
        "previsores.shape\n",
        "##1º - quantidade de linha \n",
        "#2º - quantidade de características\n",
        "#saída -> (quantidade de linha,quantidade de características )"
      ],
      "execution_count": 76,
      "outputs": [
        {
          "output_type": "execute_result",
          "data": {
            "text/plain": [
              "(569, 30)"
            ]
          },
          "metadata": {},
          "execution_count": 76
        }
      ]
    },
    {
      "cell_type": "code",
      "metadata": {
        "colab": {
          "base_uri": "https://localhost:8080/",
          "height": 0
        },
        "id": "Iy3sGvMGzBFx",
        "outputId": "8411af31-893f-4d44-d8f6-7bef71cc28b9"
      },
      "source": [
        "#Observando os primeiros registros\n",
        "previsores.head()"
      ],
      "execution_count": 77,
      "outputs": [
        {
          "output_type": "execute_result",
          "data": {
            "text/html": [
              "<div>\n",
              "<style scoped>\n",
              "    .dataframe tbody tr th:only-of-type {\n",
              "        vertical-align: middle;\n",
              "    }\n",
              "\n",
              "    .dataframe tbody tr th {\n",
              "        vertical-align: top;\n",
              "    }\n",
              "\n",
              "    .dataframe thead th {\n",
              "        text-align: right;\n",
              "    }\n",
              "</style>\n",
              "<table border=\"1\" class=\"dataframe\">\n",
              "  <thead>\n",
              "    <tr style=\"text-align: right;\">\n",
              "      <th></th>\n",
              "      <th>radius_mean</th>\n",
              "      <th>texture_mean</th>\n",
              "      <th>perimeter_mean</th>\n",
              "      <th>area_mean</th>\n",
              "      <th>smoothness_mean</th>\n",
              "      <th>compactness_mean</th>\n",
              "      <th>concavity_mean</th>\n",
              "      <th>concave_points_mean</th>\n",
              "      <th>symmetry_mean</th>\n",
              "      <th>fractal_dimension_mean</th>\n",
              "      <th>radius_se</th>\n",
              "      <th>texture_se</th>\n",
              "      <th>perimeter_se</th>\n",
              "      <th>area_se</th>\n",
              "      <th>smoothness_se</th>\n",
              "      <th>compactness_se</th>\n",
              "      <th>concavity_se</th>\n",
              "      <th>concave_points_se</th>\n",
              "      <th>symmetry_se</th>\n",
              "      <th>fractal_dimension_se</th>\n",
              "      <th>radius_worst</th>\n",
              "      <th>texture_worst</th>\n",
              "      <th>perimeter_worst</th>\n",
              "      <th>area_worst</th>\n",
              "      <th>smoothness_worst</th>\n",
              "      <th>compactness_worst</th>\n",
              "      <th>concavity_worst</th>\n",
              "      <th>concave_points_worst</th>\n",
              "      <th>symmetry_worst</th>\n",
              "      <th>fractal_dimension_worst</th>\n",
              "    </tr>\n",
              "  </thead>\n",
              "  <tbody>\n",
              "    <tr>\n",
              "      <th>0</th>\n",
              "      <td>17.99</td>\n",
              "      <td>10.38</td>\n",
              "      <td>122.80</td>\n",
              "      <td>1001.0</td>\n",
              "      <td>0.11840</td>\n",
              "      <td>0.27760</td>\n",
              "      <td>0.3001</td>\n",
              "      <td>0.14710</td>\n",
              "      <td>0.2419</td>\n",
              "      <td>0.07871</td>\n",
              "      <td>1095.0000</td>\n",
              "      <td>0.9053</td>\n",
              "      <td>8589.0</td>\n",
              "      <td>153.40</td>\n",
              "      <td>0.006399</td>\n",
              "      <td>0.04904</td>\n",
              "      <td>0.05373</td>\n",
              "      <td>0.01587</td>\n",
              "      <td>0.03003</td>\n",
              "      <td>0.006193</td>\n",
              "      <td>25.38</td>\n",
              "      <td>17.33</td>\n",
              "      <td>184.60</td>\n",
              "      <td>2019.0</td>\n",
              "      <td>0.1622</td>\n",
              "      <td>0.6656</td>\n",
              "      <td>0.7119</td>\n",
              "      <td>0.2654</td>\n",
              "      <td>0.4601</td>\n",
              "      <td>0.11890</td>\n",
              "    </tr>\n",
              "    <tr>\n",
              "      <th>1</th>\n",
              "      <td>20.57</td>\n",
              "      <td>17.77</td>\n",
              "      <td>132.90</td>\n",
              "      <td>1326.0</td>\n",
              "      <td>0.08474</td>\n",
              "      <td>0.07864</td>\n",
              "      <td>0.0869</td>\n",
              "      <td>0.07017</td>\n",
              "      <td>0.1812</td>\n",
              "      <td>0.05667</td>\n",
              "      <td>0.5435</td>\n",
              "      <td>0.7339</td>\n",
              "      <td>3398.0</td>\n",
              "      <td>74.08</td>\n",
              "      <td>0.005225</td>\n",
              "      <td>0.01308</td>\n",
              "      <td>0.01860</td>\n",
              "      <td>0.01340</td>\n",
              "      <td>0.01389</td>\n",
              "      <td>0.003532</td>\n",
              "      <td>24.99</td>\n",
              "      <td>23.41</td>\n",
              "      <td>158.80</td>\n",
              "      <td>1956.0</td>\n",
              "      <td>0.1238</td>\n",
              "      <td>0.1866</td>\n",
              "      <td>0.2416</td>\n",
              "      <td>186.0000</td>\n",
              "      <td>275.0000</td>\n",
              "      <td>0.08902</td>\n",
              "    </tr>\n",
              "    <tr>\n",
              "      <th>2</th>\n",
              "      <td>19.69</td>\n",
              "      <td>21.25</td>\n",
              "      <td>130.00</td>\n",
              "      <td>1203.0</td>\n",
              "      <td>0.10960</td>\n",
              "      <td>0.15990</td>\n",
              "      <td>0.1974</td>\n",
              "      <td>0.12790</td>\n",
              "      <td>0.2069</td>\n",
              "      <td>0.05999</td>\n",
              "      <td>0.7456</td>\n",
              "      <td>0.7869</td>\n",
              "      <td>4585.0</td>\n",
              "      <td>94.03</td>\n",
              "      <td>0.006150</td>\n",
              "      <td>0.04006</td>\n",
              "      <td>0.03832</td>\n",
              "      <td>0.02058</td>\n",
              "      <td>0.02250</td>\n",
              "      <td>0.004571</td>\n",
              "      <td>23.57</td>\n",
              "      <td>25.53</td>\n",
              "      <td>152.50</td>\n",
              "      <td>1709.0</td>\n",
              "      <td>0.1444</td>\n",
              "      <td>0.4245</td>\n",
              "      <td>0.4504</td>\n",
              "      <td>243.0000</td>\n",
              "      <td>0.3613</td>\n",
              "      <td>0.08758</td>\n",
              "    </tr>\n",
              "    <tr>\n",
              "      <th>3</th>\n",
              "      <td>11.42</td>\n",
              "      <td>20.38</td>\n",
              "      <td>77.58</td>\n",
              "      <td>386.1</td>\n",
              "      <td>0.14250</td>\n",
              "      <td>0.28390</td>\n",
              "      <td>0.2414</td>\n",
              "      <td>0.10520</td>\n",
              "      <td>0.2597</td>\n",
              "      <td>0.09744</td>\n",
              "      <td>0.4956</td>\n",
              "      <td>1156.0000</td>\n",
              "      <td>3445.0</td>\n",
              "      <td>27.23</td>\n",
              "      <td>0.009110</td>\n",
              "      <td>0.07458</td>\n",
              "      <td>0.05661</td>\n",
              "      <td>0.01867</td>\n",
              "      <td>0.05963</td>\n",
              "      <td>0.009208</td>\n",
              "      <td>14.91</td>\n",
              "      <td>26.50</td>\n",
              "      <td>98.87</td>\n",
              "      <td>567.7</td>\n",
              "      <td>0.2098</td>\n",
              "      <td>0.8663</td>\n",
              "      <td>0.6869</td>\n",
              "      <td>0.2575</td>\n",
              "      <td>0.6638</td>\n",
              "      <td>173.00000</td>\n",
              "    </tr>\n",
              "    <tr>\n",
              "      <th>4</th>\n",
              "      <td>20.29</td>\n",
              "      <td>14.34</td>\n",
              "      <td>135.10</td>\n",
              "      <td>1297.0</td>\n",
              "      <td>0.10030</td>\n",
              "      <td>0.13280</td>\n",
              "      <td>198.0000</td>\n",
              "      <td>0.10430</td>\n",
              "      <td>0.1809</td>\n",
              "      <td>0.05883</td>\n",
              "      <td>0.7572</td>\n",
              "      <td>0.7813</td>\n",
              "      <td>5438.0</td>\n",
              "      <td>94.44</td>\n",
              "      <td>0.011490</td>\n",
              "      <td>0.02461</td>\n",
              "      <td>0.05688</td>\n",
              "      <td>0.01885</td>\n",
              "      <td>0.01756</td>\n",
              "      <td>0.005115</td>\n",
              "      <td>22.54</td>\n",
              "      <td>16.67</td>\n",
              "      <td>152.20</td>\n",
              "      <td>1575.0</td>\n",
              "      <td>0.1374</td>\n",
              "      <td>205.0000</td>\n",
              "      <td>0.4000</td>\n",
              "      <td>0.1625</td>\n",
              "      <td>0.2364</td>\n",
              "      <td>0.07678</td>\n",
              "    </tr>\n",
              "  </tbody>\n",
              "</table>\n",
              "</div>"
            ],
            "text/plain": [
              "    radius_mean   texture_mean  ...   symmetry_worst   fractal_dimension_worst\n",
              "0         17.99          10.38  ...           0.4601                   0.11890\n",
              "1         20.57          17.77  ...         275.0000                   0.08902\n",
              "2         19.69          21.25  ...           0.3613                   0.08758\n",
              "3         11.42          20.38  ...           0.6638                 173.00000\n",
              "4         20.29          14.34  ...           0.2364                   0.07678\n",
              "\n",
              "[5 rows x 30 columns]"
            ]
          },
          "metadata": {},
          "execution_count": 77
        }
      ]
    },
    {
      "cell_type": "code",
      "metadata": {
        "colab": {
          "base_uri": "https://localhost:8080/",
          "height": 0
        },
        "id": "CxE8SoSqzKbw",
        "outputId": "5cf65166-8e22-44ea-f1f0-3369c8f1abc9"
      },
      "source": [
        "#observando os primeiros registros das classes\n",
        "classe.head()"
      ],
      "execution_count": 78,
      "outputs": [
        {
          "output_type": "execute_result",
          "data": {
            "text/html": [
              "<div>\n",
              "<style scoped>\n",
              "    .dataframe tbody tr th:only-of-type {\n",
              "        vertical-align: middle;\n",
              "    }\n",
              "\n",
              "    .dataframe tbody tr th {\n",
              "        vertical-align: top;\n",
              "    }\n",
              "\n",
              "    .dataframe thead th {\n",
              "        text-align: right;\n",
              "    }\n",
              "</style>\n",
              "<table border=\"1\" class=\"dataframe\">\n",
              "  <thead>\n",
              "    <tr style=\"text-align: right;\">\n",
              "      <th></th>\n",
              "      <th>0</th>\n",
              "    </tr>\n",
              "  </thead>\n",
              "  <tbody>\n",
              "    <tr>\n",
              "      <th>0</th>\n",
              "      <td>0</td>\n",
              "    </tr>\n",
              "    <tr>\n",
              "      <th>1</th>\n",
              "      <td>0</td>\n",
              "    </tr>\n",
              "    <tr>\n",
              "      <th>2</th>\n",
              "      <td>0</td>\n",
              "    </tr>\n",
              "    <tr>\n",
              "      <th>3</th>\n",
              "      <td>0</td>\n",
              "    </tr>\n",
              "    <tr>\n",
              "      <th>4</th>\n",
              "      <td>0</td>\n",
              "    </tr>\n",
              "  </tbody>\n",
              "</table>\n",
              "</div>"
            ],
            "text/plain": [
              "   0\n",
              "0  0\n",
              "1  0\n",
              "2  0\n",
              "3  0\n",
              "4  0"
            ]
          },
          "metadata": {},
          "execution_count": 78
        }
      ]
    },
    {
      "cell_type": "code",
      "metadata": {
        "colab": {
          "base_uri": "https://localhost:8080/"
        },
        "id": "LqF7uaQ_zkjH",
        "outputId": "048729d3-908b-4a8a-c689-47fed280af45"
      },
      "source": [
        "#fazendo contagem pra ver quantos elementos temos de cada classe\n",
        "np.unique(classe)#me retorna um array com as chaves únicas"
      ],
      "execution_count": 79,
      "outputs": [
        {
          "output_type": "execute_result",
          "data": {
            "text/plain": [
              "array([0, 1])"
            ]
          },
          "metadata": {},
          "execution_count": 79
        }
      ]
    },
    {
      "cell_type": "code",
      "metadata": {
        "colab": {
          "base_uri": "https://localhost:8080/",
          "height": 0
        },
        "id": "BwIYFWnmz2Cp",
        "outputId": "b29ed309-5629-4ac6-d675-796b417b3d9a"
      },
      "source": [
        "#visualizar um gráfico de contagem\n",
        "sns.countplot(classe['0']);"
      ],
      "execution_count": 80,
      "outputs": [
        {
          "output_type": "stream",
          "name": "stderr",
          "text": [
            "/usr/local/lib/python3.7/dist-packages/seaborn/_decorators.py:43: FutureWarning: Pass the following variable as a keyword arg: x. From version 0.12, the only valid positional argument will be `data`, and passing other arguments without an explicit keyword will result in an error or misinterpretation.\n",
            "  FutureWarning\n"
          ]
        },
        {
          "output_type": "display_data",
          "data": {
            "image/png": "[encoded data removed]",
            "text/plain": [
              "<Figure size 432x288 with 1 Axes>"
            ]
          },
          "metadata": {
            "needs_background": "light"
          }
        }
      ]
    },
    {
      "cell_type": "code",
      "metadata": {
        "id": "tsYndNxC0BIF"
      },
      "source": [
        "#fazer a divisão dessa base de dados\n",
        "#uma parte para treino e outra para teste\n",
        "previsores_treinamento, previsores_teste, classe_treinamento, classe_teste = train_test_split(previsores,\n",
        "                                                                                              classe,\n",
        "                                                                                              test_size=0.25)\n",
        "#test_size indica o percentual do dataset que será destinado para teste\n",
        "#com isso, ficamos com: 25% dos dados para teste e 75% dos dados para treino"
      ],
      "execution_count": 81,
      "outputs": []
    },
    {
      "cell_type": "code",
      "metadata": {
        "colab": {
          "base_uri": "https://localhost:8080/"
        },
        "id": "kmZjpPC_1Mzc",
        "outputId": "af65e670-3ba6-4cc3-9d0a-243291aa6b8d"
      },
      "source": [
        "previsores_treinamento.shape"
      ],
      "execution_count": 82,
      "outputs": [
        {
          "output_type": "execute_result",
          "data": {
            "text/plain": [
              "(426, 30)"
            ]
          },
          "metadata": {},
          "execution_count": 82
        }
      ]
    },
    {
      "cell_type": "code",
      "metadata": {
        "colab": {
          "base_uri": "https://localhost:8080/"
        },
        "id": "aA7h-epr1W-B",
        "outputId": "81cb2b87-f911-4000-a297-bec2234626d5"
      },
      "source": [
        "classe_treinamento.shape"
      ],
      "execution_count": 83,
      "outputs": [
        {
          "output_type": "execute_result",
          "data": {
            "text/plain": [
              "(426, 1)"
            ]
          },
          "metadata": {},
          "execution_count": 83
        }
      ]
    },
    {
      "cell_type": "code",
      "metadata": {
        "colab": {
          "base_uri": "https://localhost:8080/"
        },
        "id": "LTLanB3f1aKH",
        "outputId": "050230f8-3d7b-423a-f3d6-1018c612a762"
      },
      "source": [
        "previsores_teste.shape"
      ],
      "execution_count": 84,
      "outputs": [
        {
          "output_type": "execute_result",
          "data": {
            "text/plain": [
              "(143, 30)"
            ]
          },
          "metadata": {},
          "execution_count": 84
        }
      ]
    },
    {
      "cell_type": "code",
      "metadata": {
        "colab": {
          "base_uri": "https://localhost:8080/"
        },
        "id": "R3s0vX021c6C",
        "outputId": "192fcc97-d01a-4623-c4ed-4867460260cf"
      },
      "source": [
        "classe_teste.shape"
      ],
      "execution_count": 85,
      "outputs": [
        {
          "output_type": "execute_result",
          "data": {
            "text/plain": [
              "(143, 1)"
            ]
          },
          "metadata": {},
          "execution_count": 85
        }
      ]
    },
    {
      "cell_type": "markdown",
      "metadata": {
        "id": "cosZpn8R1zTR"
      },
      "source": [
        ">### Etapa 3 - Transformação dos dados para tensores"
      ]
    },
    {
      "cell_type": "code",
      "metadata": {
        "colab": {
          "base_uri": "https://localhost:8080/"
        },
        "id": "W-oIMkm518NG",
        "outputId": "4eb3c517-8411-4b25-a7d1-0d21f38cde57"
      },
      "source": [
        "type(previsores_treinamento)\n",
        "#previsores_treinamento está no formato dataframe do pandas\n",
        "#Precisamos fazer duas transformações:\n",
        "#1 - Pandas -> Numpy\n",
        "#2 - Numpy -> pytorch"
      ],
      "execution_count": 86,
      "outputs": [
        {
          "output_type": "execute_result",
          "data": {
            "text/plain": [
              "pandas.core.frame.DataFrame"
            ]
          },
          "metadata": {},
          "execution_count": 86
        }
      ]
    },
    {
      "cell_type": "code",
      "metadata": {
        "colab": {
          "base_uri": "https://localhost:8080/"
        },
        "id": "2X9obpp926T8",
        "outputId": "6d1b3d99-be06-4415-bc50-ff4643327fb4"
      },
      "source": [
        "#convertendo pandas -> numpy\n",
        "previsores_treinamento = np.array(previsores_treinamento)\n",
        "type(previsores_treinamento)"
      ],
      "execution_count": 87,
      "outputs": [
        {
          "output_type": "execute_result",
          "data": {
            "text/plain": [
              "numpy.ndarray"
            ]
          },
          "metadata": {},
          "execution_count": 87
        }
      ]
    },
    {
      "cell_type": "code",
      "metadata": {
        "id": "YXY9XLL73eoX"
      },
      "source": [
        "#convertendo numpy -> pytorch\n",
        "previsores_treinamento = torch.tensor(previsores_treinamento, dtype=torch.float)"
      ],
      "execution_count": 88,
      "outputs": []
    },
    {
      "cell_type": "code",
      "metadata": {
        "id": "42BcgIUd4WnZ"
      },
      "source": [
        "#para classe farei direto \n",
        "#passando todos os argumentos de uma vez só \n",
        "classe_treinamento = torch.tensor(np.array(classe_treinamento), dtype= torch.float)"
      ],
      "execution_count": 89,
      "outputs": []
    },
    {
      "cell_type": "code",
      "metadata": {
        "colab": {
          "base_uri": "https://localhost:8080/"
        },
        "id": "wBs_6Yrg4rgl",
        "outputId": "28eaa4c8-b801-420b-8464-49efd90c51d2"
      },
      "source": [
        "type(previsores_treinamento)"
      ],
      "execution_count": 90,
      "outputs": [
        {
          "output_type": "execute_result",
          "data": {
            "text/plain": [
              "torch.Tensor"
            ]
          },
          "metadata": {},
          "execution_count": 90
        }
      ]
    },
    {
      "cell_type": "code",
      "metadata": {
        "colab": {
          "base_uri": "https://localhost:8080/"
        },
        "id": "KX6LVl9k4vrm",
        "outputId": "f8591f21-dd25-4cdd-bdde-096195fbb51f"
      },
      "source": [
        "type(classe_treinamento)\n",
        "#aqui é possível notar que os dados já são do tipo 'torch.Tensor' "
      ],
      "execution_count": 91,
      "outputs": [
        {
          "output_type": "execute_result",
          "data": {
            "text/plain": [
              "torch.Tensor"
            ]
          },
          "metadata": {},
          "execution_count": 91
        }
      ]
    },
    {
      "cell_type": "code",
      "metadata": {
        "id": "7UPaaAh35GGu"
      },
      "source": [
        "#vamos fazer a criação de um dataset\n",
        "#para que possamos passar como parâmetro para o pytorch\n",
        "#neste caso temos duas variáveis (previsores_treinamento e classe_treinamento),\n",
        "#precisamos juntar as duas variáveis em uma só, para que possamos passar para o\n",
        "#pytorch\n",
        "dataset = torch.utils.data.TensorDataset(previsores_treinamento, classe_treinamento)\n",
        "#temos uma classe TensorDataset que vai criar um datasete utilizando as duas variáveis\n",
        "#o próprio pytorch irá identificar que o primeiro parâmetro se trata de previsores\n",
        "# e o segundo se trata das classes "
      ],
      "execution_count": 92,
      "outputs": []
    },
    {
      "cell_type": "code",
      "metadata": {
        "colab": {
          "base_uri": "https://localhost:8080/"
        },
        "id": "yMEgWVz-4y8-",
        "outputId": "90d9b941-bdd8-4623-d2f3-909f282b399e"
      },
      "source": [
        "#A parti de agora iremos utilizar a variável 'dataset' para passar os dados \n",
        "#para o nosso treinamento\n",
        "type(dataset)"
      ],
      "execution_count": 93,
      "outputs": [
        {
          "output_type": "execute_result",
          "data": {
            "text/plain": [
              "torch.utils.data.dataset.TensorDataset"
            ]
          },
          "metadata": {},
          "execution_count": 93
        }
      ]
    },
    {
      "cell_type": "code",
      "metadata": {
        "id": "Zx_cZ6_o6o40"
      },
      "source": [
        "train_loader = torch.utils.data.DataLoader(dataset, batch_size=10, shuffle=True)\n",
        "#o pytorch faz o treinamento em mini batchs \n",
        "#neste caso o tamanho desse batch é de 10 registros\n",
        "#ou seja, a cada 10 registros o pytorch recalcula os pesos\n",
        "#o shuffle serve para indicar que queremos que misture os dados\n",
        "#o DataLoader é uma classe responsável por fornecer o número certo de dados\n",
        "# de acordo com o parâmetro batch_size\n",
        "#além disso essa classe mantém  o histórico dos dados que foram treinados\n",
        "# de forma a não enviar dados repetidos dentro da mesma época"
      ],
      "execution_count": 94,
      "outputs": []
    },
    {
      "cell_type": "markdown",
      "metadata": {
        "id": "U3ngOEd78e9F"
      },
      "source": [
        ">### Etapa 4 - Construção do modelo"
      ]
    },
    {
      "cell_type": "code",
      "metadata": {
        "id": "kxXuLw3v8jcf"
      },
      "source": [
        "#Vamos construir uma rede neural da seguinte maneira\n",
        "# 30 neurônios na camada de entrada --> 16 neurônios --> 16 neurônios --> 1 neurônio\n",
        "#explicação dos valores:\n",
        "#--->30 neurônios na camada de entrada é pelo fato de que na nossa base de dados temos\n",
        "#30 atributos previsores, ou seja, sempre na camada de entrada teremos a quantidade\n",
        "#de neurônios igual a quantidade de atributos\n",
        "#--->2 camadas ocultas, contendo  16 neurônios, cada, vem da fórmula=> \n",
        "#       (entradas + saídas)/2 = (30+1)/2 = 15,5==> 16 neurônios cada camada oculta.\n",
        "#---> ultima camada com apenas 1 neurônio vem do fato de a resposta no nosso problema\n",
        "#ser binária, zero ou um, com isso é necessário apenas um neurônio para nos dar esta resposta\n",
        "classificador = nn.Sequential(\n",
        "    nn.Linear(in_features=30, out_features=16),\n",
        "    nn.ReLU(),\n",
        "    nn.Linear(16, 16),\n",
        "    nn.ReLU(),\n",
        "    nn.Linear(16,1),\n",
        "    nn.Sigmoid()\n",
        ")\n",
        "#explicando  os parâmetros:\n",
        "#nn.Sequential() indica uma sequencia de camadas definida por nós\n",
        "#explicando camada por camada:\n",
        "#nn.Linear(in_features=30, out_features=16) ---> como é o nosso primeiro parâmetro\n",
        "#indica que é a primeira camada, que nesse caso possui 30 neurônios (in_features=30)\n",
        "#que se ligam, cada um dos 30 neurônios, aos 16 neurônios da próxima camada (out_features=16)\n",
        "#esse nn.Linear indica que são ligações densas entre os neurônios de cada camada\n",
        "#ou seja, cada neurônio da camada atual se liga com todos os neurônios da camada seguinte\n",
        "#nn.ReLU() --> é a função de ativação escolhida para atuar sobre os neurônios\n",
        "#nn.Sigmoid() --> Função de ativação escolhida para atuar na minha saída (poderia ser outra)\n",
        "#Nesse caso a função de ativação sigmoid foi escolhida, pois ela retorna uma probabilidade\n",
        "#que é exatamente o que queremos, um valor entre zero e um\n",
        "#mais próximo de 1 ---> tende a ser positivo\n",
        "#mais próximo de 0 ---> tende a ser negativo"
      ],
      "execution_count": 95,
      "outputs": []
    },
    {
      "cell_type": "code",
      "metadata": {
        "colab": {
          "base_uri": "https://localhost:8080/"
        },
        "id": "hrrn_35bCUEo",
        "outputId": "fd8376d7-7bb7-4888-daaf-e4dfcfed3eea"
      },
      "source": [
        "#Vamos visualizar os parâmetros/estrutura da rede neural\n",
        "classificador.parameters"
      ],
      "execution_count": 96,
      "outputs": [
        {
          "output_type": "execute_result",
          "data": {
            "text/plain": [
              "<bound method Module.parameters of Sequential(\n",
              "  (0): Linear(in_features=30, out_features=16, bias=True)\n",
              "  (1): ReLU()\n",
              "  (2): Linear(in_features=16, out_features=16, bias=True)\n",
              "  (3): ReLU()\n",
              "  (4): Linear(in_features=16, out_features=1, bias=True)\n",
              "  (5): Sigmoid()\n",
              ")>"
            ]
          },
          "metadata": {},
          "execution_count": 96
        }
      ]
    },
    {
      "cell_type": "code",
      "metadata": {
        "id": "H4JIOQDvCgxf"
      },
      "source": [
        "#vamos criar a nossa função de erro\n",
        "criterion = nn.BCELoss()\n",
        "#automaticamente irá fazer o calculo do erro"
      ],
      "execution_count": 97,
      "outputs": []
    },
    {
      "cell_type": "code",
      "metadata": {
        "id": "ylK1QZBsCzfn"
      },
      "source": [
        "#agora vamos criar o nosso otimizador\n",
        "optimizer = torch.optim.Adam(classificador.parameters(), lr=0.001, weight_decay=0.0001)\n",
        "#o otimizador utilizado aqui foi o Adam (bastante utilizado)\n",
        "#parâmetros: \n",
        "#   classificador.parameters() ---> a estrutura da rede\n",
        "#   lr = Learning rate (esse valor é obtido por convensão, olhando o tipo de rede e problema)\n",
        "#   weight_decay  --->> esse parâmetro indica que após um número 'x' de época o lr vai decaindo\n",
        "#para conseguir se aproximar mais do gradiente ( ajuda o algoritmo a chegar no mínimo global)"
      ],
      "execution_count": 98,
      "outputs": []
    },
    {
      "cell_type": "markdown",
      "metadata": {
        "id": "s_iho955FzKO"
      },
      "source": [
        ">### Etapa 5 - Treinamento do Modelo"
      ]
    },
    {
      "cell_type": "code",
      "metadata": {
        "id": "0128a7esF83Q",
        "colab": {
          "base_uri": "https://localhost:8080/"
        },
        "outputId": "a5809aa2-07c0-4101-b7ee-81f12e3e52e7"
      },
      "source": [
        "#em outras bibliotecas como keras e tensorflow basta mandar a funcao fit\n",
        "#com a base de dados que o treinamento é feito\n",
        "#no nosso caso é diferente\n",
        "#teremo que fazer a estrutura \"for\" para fazer esse processo \n",
        "for epoch in range(100):\n",
        "  running_loss = 0.\n",
        "  for data in train_loader:\n",
        "    #inputs são as entradas ou previsores\n",
        "    #labels são as respostas reais ou esperadas\n",
        "    inputs, labels = data\n",
        "    #print(inputs)\n",
        "    #print(\"-----------\")\n",
        "    #print(labels)\n",
        "    optimizer.zero_grad()\n",
        "    outputs = classificador(inputs)#ou ainda classificador.forward(inputs)\n",
        "    #print(outputs) valores das previsões\n",
        "    #agora, em comparação entre as previsões (outputs) e as respostas reais\n",
        "    #que estão em labels, vamos calcular os erros\n",
        "    loss = criterion(outputs, labels)\n",
        "    #print(loss)\n",
        "    #agora vamos fazer o backpropagation\n",
        "    loss.backward()\n",
        "    #vamos fazer o ajuste dos pesos\n",
        "    optimizer.step()#pesos ajustados\n",
        "\n",
        "    running_loss += loss.item()\n",
        "  print(\"Época %3d: perda %.5f\" %(epoch+1, running_loss/len(train_loader)))\n",
        "  #Lembrando que aprendizagem de uma rede neural é a escolha do melhor conjunto de pesos\n",
        "\n",
        "#temos que são 426 registros e que são passados de 10 em 10   (size batchs)\n",
        "#por tanto 426/10=42,6-->43 ajustes de pesos em cada época \n",
        "#no caso, em cada iteração 'for'\n",
        "#estamos escolhendo 100 epocas"
      ],
      "execution_count": 99,
      "outputs": [
        {
          "output_type": "stream",
          "name": "stdout",
          "text": [
            "Época   1: perda 10.78336\n",
            "Época   2: perda 2.84863\n",
            "Época   3: perda 1.67480\n",
            "Época   4: perda 1.11414\n",
            "Época   5: perda 0.63996\n",
            "Época   6: perda 0.63753\n",
            "Época   7: perda 0.58066\n",
            "Época   8: perda 0.55460\n",
            "Época   9: perda 0.55617\n",
            "Época  10: perda 0.53322\n",
            "Época  11: perda 0.55797\n",
            "Época  12: perda 0.53816\n",
            "Época  13: perda 0.52938\n",
            "Época  14: perda 0.33227\n",
            "Época  15: perda 0.51360\n",
            "Época  16: perda 0.35532\n",
            "Época  17: perda 0.49602\n",
            "Época  18: perda 0.33208\n",
            "Época  19: perda 0.29349\n",
            "Época  20: perda 0.25046\n",
            "Época  21: perda 0.29527\n",
            "Época  22: perda 0.49888\n",
            "Época  23: perda 0.47241\n",
            "Época  24: perda 0.45883\n",
            "Época  25: perda 0.27544\n",
            "Época  26: perda 0.23399\n",
            "Época  27: perda 0.26373\n",
            "Época  28: perda 0.24136\n",
            "Época  29: perda 0.28275\n",
            "Época  30: perda 0.22633\n",
            "Época  31: perda 0.19294\n",
            "Época  32: perda 0.22258\n",
            "Época  33: perda 0.20290\n",
            "Época  34: perda 0.20888\n",
            "Época  35: perda 0.20335\n",
            "Época  36: perda 0.20316\n",
            "Época  37: perda 0.18855\n",
            "Época  38: perda 0.22316\n",
            "Época  39: perda 0.23315\n",
            "Época  40: perda 0.19261\n",
            "Época  41: perda 0.17163\n",
            "Época  42: perda 0.18287\n",
            "Época  43: perda 0.17056\n",
            "Época  44: perda 0.16674\n",
            "Época  45: perda 0.18515\n",
            "Época  46: perda 0.22250\n",
            "Época  47: perda 0.17558\n",
            "Época  48: perda 0.22754\n",
            "Época  49: perda 0.19833\n",
            "Época  50: perda 0.16371\n",
            "Época  51: perda 0.16855\n",
            "Época  52: perda 0.18337\n",
            "Época  53: perda 0.17593\n",
            "Época  54: perda 0.17882\n",
            "Época  55: perda 0.18470\n",
            "Época  56: perda 0.17073\n",
            "Época  57: perda 0.15674\n",
            "Época  58: perda 0.18435\n",
            "Época  59: perda 0.14023\n",
            "Época  60: perda 0.15765\n",
            "Época  61: perda 0.16521\n",
            "Época  62: perda 0.15513\n",
            "Época  63: perda 0.13765\n",
            "Época  64: perda 0.14962\n",
            "Época  65: perda 0.15919\n",
            "Época  66: perda 0.23974\n",
            "Época  67: perda 0.16218\n",
            "Época  68: perda 0.15015\n",
            "Época  69: perda 0.15990\n",
            "Época  70: perda 0.18359\n",
            "Época  71: perda 0.14650\n",
            "Época  72: perda 0.16269\n",
            "Época  73: perda 0.12191\n",
            "Época  74: perda 0.13901\n",
            "Época  75: perda 0.13926\n",
            "Época  76: perda 0.13105\n",
            "Época  77: perda 0.12779\n",
            "Época  78: perda 0.14741\n",
            "Época  79: perda 0.20884\n",
            "Época  80: perda 0.20729\n",
            "Época  81: perda 0.22643\n",
            "Época  82: perda 0.16890\n",
            "Época  83: perda 0.11829\n",
            "Época  84: perda 0.12809\n",
            "Época  85: perda 0.12544\n",
            "Época  86: perda 0.12474\n",
            "Época  87: perda 0.15365\n",
            "Época  88: perda 0.11945\n",
            "Época  89: perda 0.15052\n",
            "Época  90: perda 0.12977\n",
            "Época  91: perda 0.16607\n",
            "Época  92: perda 0.14753\n",
            "Época  93: perda 0.09912\n",
            "Época  94: perda 0.13184\n",
            "Época  95: perda 0.10702\n",
            "Época  96: perda 0.12766\n",
            "Época  97: perda 0.12817\n",
            "Época  98: perda 0.12291\n",
            "Época  99: perda 0.13988\n",
            "Época 100: perda 0.13753\n",
            "Época 101: perda 0.11618\n",
            "Época 102: perda 0.12441\n",
            "Época 103: perda 0.15940\n",
            "Época 104: perda 0.11434\n",
            "Época 105: perda 0.10708\n",
            "Época 106: perda 0.12147\n",
            "Época 107: perda 0.15126\n",
            "Época 108: perda 0.14897\n",
            "Época 109: perda 0.11308\n",
            "Época 110: perda 0.14515\n",
            "Época 111: perda 0.11224\n",
            "Época 112: perda 0.12243\n",
            "Época 113: perda 0.12769\n",
            "Época 114: perda 0.10704\n",
            "Época 115: perda 0.12199\n",
            "Época 116: perda 0.12206\n",
            "Época 117: perda 0.14932\n",
            "Época 118: perda 0.15264\n",
            "Época 119: perda 0.10410\n",
            "Época 120: perda 0.11391\n",
            "Época 121: perda 0.09641\n",
            "Época 122: perda 0.10930\n",
            "Época 123: perda 0.16920\n",
            "Época 124: perda 0.17965\n",
            "Época 125: perda 0.14501\n",
            "Época 126: perda 0.13296\n",
            "Época 127: perda 0.14183\n",
            "Época 128: perda 0.12327\n",
            "Época 129: perda 0.10596\n",
            "Época 130: perda 0.09524\n",
            "Época 131: perda 0.09903\n",
            "Época 132: perda 0.11645\n",
            "Época 133: perda 0.11556\n",
            "Época 134: perda 0.09646\n",
            "Época 135: perda 0.11537\n",
            "Época 136: perda 0.11098\n",
            "Época 137: perda 0.09390\n",
            "Época 138: perda 0.08960\n",
            "Época 139: perda 0.12997\n",
            "Época 140: perda 0.13778\n",
            "Época 141: perda 0.10531\n",
            "Época 142: perda 0.08753\n",
            "Época 143: perda 0.09650\n",
            "Época 144: perda 0.10198\n",
            "Época 145: perda 0.10660\n",
            "Época 146: perda 0.10859\n",
            "Época 147: perda 0.10262\n",
            "Época 148: perda 0.13961\n",
            "Época 149: perda 0.12760\n",
            "Época 150: perda 0.11410\n",
            "Época 151: perda 0.13066\n",
            "Época 152: perda 0.10944\n",
            "Época 153: perda 0.11815\n",
            "Época 154: perda 0.12828\n",
            "Época 155: perda 0.17800\n",
            "Época 156: perda 0.13193\n",
            "Época 157: perda 0.09501\n",
            "Época 158: perda 0.10221\n",
            "Época 159: perda 0.10422\n",
            "Época 160: perda 0.13867\n",
            "Época 161: perda 0.11912\n",
            "Época 162: perda 0.12288\n",
            "Época 163: perda 0.10878\n",
            "Época 164: perda 0.10347\n",
            "Época 165: perda 0.08901\n",
            "Época 166: perda 0.10394\n",
            "Época 167: perda 0.09164\n",
            "Época 168: perda 0.08536\n",
            "Época 169: perda 0.11973\n",
            "Época 170: perda 0.10165\n",
            "Época 171: perda 0.08563\n",
            "Época 172: perda 0.09116\n",
            "Época 173: perda 0.09227\n",
            "Época 174: perda 0.09951\n",
            "Época 175: perda 0.10710\n",
            "Época 176: perda 0.12458\n",
            "Época 177: perda 0.09169\n",
            "Época 178: perda 0.07768\n",
            "Época 179: perda 0.09649\n",
            "Época 180: perda 0.11542\n",
            "Época 181: perda 0.13066\n",
            "Época 182: perda 0.09416\n",
            "Época 183: perda 0.12955\n",
            "Época 184: perda 0.07945\n",
            "Época 185: perda 0.06611\n",
            "Época 186: perda 0.06444\n",
            "Época 187: perda 0.08241\n",
            "Época 188: perda 0.06735\n",
            "Época 189: perda 0.08257\n",
            "Época 190: perda 0.10594\n",
            "Época 191: perda 0.06997\n",
            "Época 192: perda 0.08125\n",
            "Época 193: perda 0.07366\n",
            "Época 194: perda 0.07801\n",
            "Época 195: perda 0.10132\n",
            "Época 196: perda 0.09008\n",
            "Época 197: perda 0.09414\n",
            "Época 198: perda 0.07439\n",
            "Época 199: perda 0.10515\n",
            "Época 200: perda 0.07463\n",
            "Época 201: perda 0.10043\n",
            "Época 202: perda 0.10857\n",
            "Época 203: perda 0.10762\n",
            "Época 204: perda 0.18867\n",
            "Época 205: perda 0.12594\n",
            "Época 206: perda 0.11125\n",
            "Época 207: perda 0.10612\n",
            "Época 208: perda 0.07230\n",
            "Época 209: perda 0.06270\n",
            "Época 210: perda 0.07189\n",
            "Época 211: perda 0.06011\n",
            "Época 212: perda 0.09195\n",
            "Época 213: perda 0.08524\n",
            "Época 214: perda 0.07186\n",
            "Época 215: perda 0.05987\n",
            "Época 216: perda 0.07424\n",
            "Época 217: perda 0.12513\n",
            "Época 218: perda 0.08698\n",
            "Época 219: perda 0.08824\n",
            "Época 220: perda 0.06452\n",
            "Época 221: perda 0.06487\n",
            "Época 222: perda 0.07085\n",
            "Época 223: perda 0.06756\n",
            "Época 224: perda 0.07207\n",
            "Época 225: perda 0.06781\n",
            "Época 226: perda 0.07493\n",
            "Época 227: perda 0.06702\n",
            "Época 228: perda 0.07925\n",
            "Época 229: perda 0.07601\n",
            "Época 230: perda 0.06271\n",
            "Época 231: perda 0.07021\n",
            "Época 232: perda 0.07765\n",
            "Época 233: perda 0.08161\n",
            "Época 234: perda 0.10717\n",
            "Época 235: perda 0.06597\n",
            "Época 236: perda 0.05742\n",
            "Época 237: perda 0.07948\n",
            "Época 238: perda 0.08428\n",
            "Época 239: perda 0.06197\n",
            "Época 240: perda 0.06566\n",
            "Época 241: perda 0.06643\n",
            "Época 242: perda 0.10941\n",
            "Época 243: perda 0.06247\n",
            "Época 244: perda 0.15372\n",
            "Época 245: perda 0.10475\n",
            "Época 246: perda 0.09291\n",
            "Época 247: perda 0.06903\n",
            "Época 248: perda 0.05153\n",
            "Época 249: perda 0.08052\n",
            "Época 250: perda 0.12238\n",
            "Época 251: perda 0.07382\n",
            "Época 252: perda 0.06930\n",
            "Época 253: perda 0.06317\n",
            "Época 254: perda 0.07214\n",
            "Época 255: perda 0.05382\n",
            "Época 256: perda 0.08285\n",
            "Época 257: perda 0.09142\n",
            "Época 258: perda 0.05753\n",
            "Época 259: perda 0.06867\n",
            "Época 260: perda 0.06736\n",
            "Época 261: perda 0.07249\n",
            "Época 262: perda 0.05492\n",
            "Época 263: perda 0.05455\n",
            "Época 264: perda 0.05553\n",
            "Época 265: perda 0.07437\n",
            "Época 266: perda 0.12452\n",
            "Época 267: perda 0.16085\n",
            "Época 268: perda 0.17084\n",
            "Época 269: perda 0.09427\n",
            "Época 270: perda 0.06616\n",
            "Época 271: perda 0.09760\n",
            "Época 272: perda 0.08158\n",
            "Época 273: perda 0.07399\n",
            "Época 274: perda 0.05925\n",
            "Época 275: perda 0.06609\n",
            "Época 276: perda 0.05235\n",
            "Época 277: perda 0.05201\n",
            "Época 278: perda 0.06020\n",
            "Época 279: perda 0.05391\n",
            "Época 280: perda 0.06083\n",
            "Época 281: perda 0.04841\n",
            "Época 282: perda 0.06957\n",
            "Época 283: perda 0.07006\n",
            "Época 284: perda 0.11257\n",
            "Época 285: perda 0.06397\n",
            "Época 286: perda 0.07122\n",
            "Época 287: perda 0.07513\n",
            "Época 288: perda 0.05900\n",
            "Época 289: perda 0.08977\n",
            "Época 290: perda 0.06100\n",
            "Época 291: perda 0.08026\n",
            "Época 292: perda 0.08260\n",
            "Época 293: perda 0.07410\n",
            "Época 294: perda 0.04887\n",
            "Época 295: perda 0.05248\n",
            "Época 296: perda 0.06015\n",
            "Época 297: perda 0.06113\n",
            "Época 298: perda 0.06778\n",
            "Época 299: perda 0.05778\n",
            "Época 300: perda 0.05311\n",
            "Época 301: perda 0.06889\n",
            "Época 302: perda 0.06714\n",
            "Época 303: perda 0.11302\n",
            "Época 304: perda 0.06735\n",
            "Época 305: perda 0.06492\n",
            "Época 306: perda 0.12446\n",
            "Época 307: perda 0.06271\n",
            "Época 308: perda 0.05771\n",
            "Época 309: perda 0.06016\n",
            "Época 310: perda 0.05564\n",
            "Época 311: perda 0.06272\n",
            "Época 312: perda 0.08577\n",
            "Época 313: perda 0.05044\n",
            "Época 314: perda 0.05382\n",
            "Época 315: perda 0.05536\n",
            "Época 316: perda 0.04900\n",
            "Época 317: perda 0.07068\n",
            "Época 318: perda 0.05345\n",
            "Época 319: perda 0.03844\n",
            "Época 320: perda 0.05905\n",
            "Época 321: perda 0.06208\n",
            "Época 322: perda 0.06793\n",
            "Época 323: perda 0.04660\n",
            "Época 324: perda 0.05294\n",
            "Época 325: perda 0.06119\n",
            "Época 326: perda 0.06420\n",
            "Época 327: perda 0.04982\n",
            "Época 328: perda 0.04608\n",
            "Época 329: perda 0.04893\n",
            "Época 330: perda 0.04543\n",
            "Época 331: perda 0.07890\n",
            "Época 332: perda 0.09352\n",
            "Época 333: perda 0.21037\n",
            "Época 334: perda 0.13874\n",
            "Época 335: perda 0.07749\n",
            "Época 336: perda 0.08176\n",
            "Época 337: perda 0.06663\n",
            "Época 338: perda 0.04868\n",
            "Época 339: perda 0.04182\n",
            "Época 340: perda 0.05098\n",
            "Época 341: perda 0.14025\n",
            "Época 342: perda 0.08273\n",
            "Época 343: perda 0.06565\n",
            "Época 344: perda 0.06457\n",
            "Época 345: perda 0.04749\n",
            "Época 346: perda 0.05579\n",
            "Época 347: perda 0.04983\n",
            "Época 348: perda 0.04476\n",
            "Época 349: perda 0.03982\n",
            "Época 350: perda 0.03645\n",
            "Época 351: perda 0.03913\n",
            "Época 352: perda 0.04384\n",
            "Época 353: perda 0.04367\n",
            "Época 354: perda 0.04287\n",
            "Época 355: perda 0.04627\n",
            "Época 356: perda 0.06020\n",
            "Época 357: perda 0.03658\n",
            "Época 358: perda 0.05359\n",
            "Época 359: perda 0.04378\n",
            "Época 360: perda 0.05466\n",
            "Época 361: perda 0.05681\n",
            "Época 362: perda 0.03391\n",
            "Época 363: perda 0.04820\n",
            "Época 364: perda 0.03868\n",
            "Época 365: perda 0.06268\n",
            "Época 366: perda 0.04519\n",
            "Época 367: perda 0.04341\n",
            "Época 368: perda 0.05471\n",
            "Época 369: perda 0.04603\n",
            "Época 370: perda 0.06844\n",
            "Época 371: perda 0.09352\n",
            "Época 372: perda 0.06355\n",
            "Época 373: perda 0.04227\n",
            "Época 374: perda 0.04092\n",
            "Época 375: perda 0.04180\n",
            "Época 376: perda 0.03998\n",
            "Época 377: perda 0.04018\n",
            "Época 378: perda 0.07451\n",
            "Época 379: perda 0.05849\n",
            "Época 380: perda 0.05724\n",
            "Época 381: perda 0.04493\n",
            "Época 382: perda 0.09567\n",
            "Época 383: perda 0.07985\n",
            "Época 384: perda 0.05236\n",
            "Época 385: perda 0.05071\n",
            "Época 386: perda 0.04351\n",
            "Época 387: perda 0.03909\n",
            "Época 388: perda 0.03797\n",
            "Época 389: perda 0.03373\n",
            "Época 390: perda 0.03194\n",
            "Época 391: perda 0.03079\n",
            "Época 392: perda 0.03467\n",
            "Época 393: perda 0.04043\n",
            "Época 394: perda 0.15835\n",
            "Época 395: perda 0.11287\n",
            "Época 396: perda 0.06621\n",
            "Época 397: perda 0.07211\n",
            "Época 398: perda 0.06290\n",
            "Época 399: perda 0.06893\n",
            "Época 400: perda 0.05843\n",
            "Época 401: perda 0.05475\n",
            "Época 402: perda 0.06394\n",
            "Época 403: perda 0.03793\n",
            "Época 404: perda 0.04437\n",
            "Época 405: perda 0.10091\n",
            "Época 406: perda 0.08740\n",
            "Época 407: perda 0.09304\n",
            "Época 408: perda 0.04718\n",
            "Época 409: perda 0.03676\n",
            "Época 410: perda 0.05014\n",
            "Época 411: perda 0.04507\n",
            "Época 412: perda 0.06646\n",
            "Época 413: perda 0.05019\n",
            "Época 414: perda 0.05180\n",
            "Época 415: perda 0.05154\n",
            "Época 416: perda 0.04872\n",
            "Época 417: perda 0.03614\n",
            "Época 418: perda 0.04011\n",
            "Época 419: perda 0.04203\n",
            "Época 420: perda 0.03078\n",
            "Época 421: perda 0.03483\n",
            "Época 422: perda 0.05653\n",
            "Época 423: perda 0.05212\n",
            "Época 424: perda 0.03796\n",
            "Época 425: perda 0.03581\n",
            "Época 426: perda 0.04178\n",
            "Época 427: perda 0.06397\n",
            "Época 428: perda 0.14174\n",
            "Época 429: perda 0.15677\n",
            "Época 430: perda 0.06478\n",
            "Época 431: perda 0.03394\n",
            "Época 432: perda 0.03696\n",
            "Época 433: perda 0.06264\n",
            "Época 434: perda 0.05880\n",
            "Época 435: perda 0.03493\n",
            "Época 436: perda 0.03689\n",
            "Época 437: perda 0.03915\n",
            "Época 438: perda 0.04392\n",
            "Época 439: perda 0.03141\n",
            "Época 440: perda 0.03377\n",
            "Época 441: perda 0.03127\n",
            "Época 442: perda 0.02818\n",
            "Época 443: perda 0.03574\n",
            "Época 444: perda 0.03901\n",
            "Época 445: perda 0.06390\n",
            "Época 446: perda 0.03974\n",
            "Época 447: perda 0.03613\n",
            "Época 448: perda 0.07397\n",
            "Época 449: perda 0.05390\n",
            "Época 450: perda 0.06676\n",
            "Época 451: perda 0.06623\n",
            "Época 452: perda 0.04645\n",
            "Época 453: perda 0.02912\n",
            "Época 454: perda 0.03503\n",
            "Época 455: perda 0.04491\n",
            "Época 456: perda 0.04465\n",
            "Época 457: perda 0.03321\n",
            "Época 458: perda 0.03475\n",
            "Época 459: perda 0.04227\n",
            "Época 460: perda 0.03657\n",
            "Época 461: perda 0.11289\n",
            "Época 462: perda 0.08377\n",
            "Época 463: perda 0.05104\n",
            "Época 464: perda 0.04259\n",
            "Época 465: perda 0.03398\n",
            "Época 466: perda 0.04266\n",
            "Época 467: perda 0.02538\n",
            "Época 468: perda 0.04428\n",
            "Época 469: perda 0.05317\n",
            "Época 470: perda 0.40931\n",
            "Época 471: perda 0.08911\n",
            "Época 472: perda 0.14617\n",
            "Época 473: perda 0.06703\n",
            "Época 474: perda 0.04882\n",
            "Época 475: perda 0.04944\n",
            "Época 476: perda 0.04495\n",
            "Época 477: perda 0.04463\n",
            "Época 478: perda 0.04277\n",
            "Época 479: perda 0.05172\n",
            "Época 480: perda 0.06161\n",
            "Época 481: perda 0.04332\n",
            "Época 482: perda 0.03820\n",
            "Época 483: perda 0.06554\n",
            "Época 484: perda 0.06766\n",
            "Época 485: perda 0.05607\n",
            "Época 486: perda 0.04611\n",
            "Época 487: perda 0.04403\n",
            "Época 488: perda 0.06412\n",
            "Época 489: perda 0.05433\n",
            "Época 490: perda 0.10881\n",
            "Época 491: perda 0.05848\n",
            "Época 492: perda 0.04386\n",
            "Época 493: perda 0.03374\n",
            "Época 494: perda 0.02300\n",
            "Época 495: perda 0.03351\n",
            "Época 496: perda 0.03313\n",
            "Época 497: perda 0.04767\n",
            "Época 498: perda 0.02834\n",
            "Época 499: perda 0.03394\n",
            "Época 500: perda 0.03297\n",
            "Época 501: perda 0.02080\n",
            "Época 502: perda 0.02293\n",
            "Época 503: perda 0.05913\n",
            "Época 504: perda 0.07321\n",
            "Época 505: perda 0.15753\n",
            "Época 506: perda 0.05652\n",
            "Época 507: perda 0.03588\n",
            "Época 508: perda 0.03764\n",
            "Época 509: perda 0.06750\n",
            "Época 510: perda 0.04238\n",
            "Época 511: perda 0.03770\n",
            "Época 512: perda 0.03346\n",
            "Época 513: perda 0.03813\n",
            "Época 514: perda 0.03158\n",
            "Época 515: perda 0.03340\n",
            "Época 516: perda 0.06319\n",
            "Época 517: perda 0.04620\n",
            "Época 518: perda 0.04324\n",
            "Época 519: perda 0.04214\n",
            "Época 520: perda 0.02760\n",
            "Época 521: perda 0.04559\n",
            "Época 522: perda 0.05597\n",
            "Época 523: perda 0.03484\n",
            "Época 524: perda 0.02726\n",
            "Época 525: perda 0.03387\n",
            "Época 526: perda 0.06205\n",
            "Época 527: perda 0.05843\n",
            "Época 528: perda 0.04407\n",
            "Época 529: perda 0.03086\n",
            "Época 530: perda 0.03340\n",
            "Época 531: perda 0.03887\n",
            "Época 532: perda 0.02533\n",
            "Época 533: perda 0.02153\n",
            "Época 534: perda 0.04305\n",
            "Época 535: perda 0.05360\n",
            "Época 536: perda 0.04028\n",
            "Época 537: perda 0.03491\n",
            "Época 538: perda 0.01990\n",
            "Época 539: perda 0.02648\n",
            "Época 540: perda 0.03123\n",
            "Época 541: perda 0.03752\n",
            "Época 542: perda 0.06173\n",
            "Época 543: perda 0.10908\n",
            "Época 544: perda 0.14638\n",
            "Época 545: perda 0.10518\n",
            "Época 546: perda 0.06269\n",
            "Época 547: perda 0.06108\n",
            "Época 548: perda 0.05818\n",
            "Época 549: perda 0.03714\n",
            "Época 550: perda 0.02961\n",
            "Época 551: perda 0.03111\n",
            "Época 552: perda 0.02753\n",
            "Época 553: perda 0.02800\n",
            "Época 554: perda 0.04030\n",
            "Época 555: perda 0.02990\n",
            "Época 556: perda 0.02564\n",
            "Época 557: perda 0.02061\n",
            "Época 558: perda 0.02054\n",
            "Época 559: perda 0.03167\n",
            "Época 560: perda 0.03533\n",
            "Época 561: perda 0.21270\n",
            "Época 562: perda 0.32532\n",
            "Época 563: perda 0.13059\n",
            "Época 564: perda 0.06468\n",
            "Época 565: perda 0.04841\n",
            "Época 566: perda 0.03108\n",
            "Época 567: perda 0.02801\n",
            "Época 568: perda 0.02269\n",
            "Época 569: perda 0.02298\n",
            "Época 570: perda 0.02220\n",
            "Época 571: perda 0.02315\n",
            "Época 572: perda 0.02570\n",
            "Época 573: perda 0.02798\n",
            "Época 574: perda 0.02407\n",
            "Época 575: perda 0.02473\n",
            "Época 576: perda 0.02457\n",
            "Época 577: perda 0.02739\n",
            "Época 578: perda 0.03091\n",
            "Época 579: perda 0.02313\n",
            "Época 580: perda 0.02071\n",
            "Época 581: perda 0.01925\n",
            "Época 582: perda 0.02056\n",
            "Época 583: perda 0.03515\n",
            "Época 584: perda 0.06657\n",
            "Época 585: perda 0.03139\n",
            "Época 586: perda 0.02821\n",
            "Época 587: perda 0.05439\n",
            "Época 588: perda 0.04974\n",
            "Época 589: perda 0.07706\n",
            "Época 590: perda 0.04890\n",
            "Época 591: perda 0.07610\n",
            "Época 592: perda 0.19252\n",
            "Época 593: perda 0.06821\n",
            "Época 594: perda 0.06022\n",
            "Época 595: perda 0.04581\n",
            "Época 596: perda 0.03928\n",
            "Época 597: perda 0.03232\n",
            "Época 598: perda 0.02589\n",
            "Época 599: perda 0.02070\n",
            "Época 600: perda 0.02763\n",
            "Época 601: perda 0.03604\n",
            "Época 602: perda 0.02557\n",
            "Época 603: perda 0.02363\n",
            "Época 604: perda 0.01684\n",
            "Época 605: perda 0.02185\n",
            "Época 606: perda 0.01979\n",
            "Época 607: perda 0.01697\n",
            "Época 608: perda 0.02398\n",
            "Época 609: perda 0.02193\n",
            "Época 610: perda 0.04468\n",
            "Época 611: perda 0.06585\n",
            "Época 612: perda 0.11041\n",
            "Época 613: perda 0.04694\n",
            "Época 614: perda 0.04646\n",
            "Época 615: perda 0.02786\n",
            "Época 616: perda 0.03555\n",
            "Época 617: perda 0.03817\n",
            "Época 618: perda 0.03475\n",
            "Época 619: perda 0.02643\n",
            "Época 620: perda 0.02492\n",
            "Época 621: perda 0.02566\n",
            "Época 622: perda 0.06645\n",
            "Época 623: perda 0.04604\n",
            "Época 624: perda 0.11022\n",
            "Época 625: perda 0.07458\n",
            "Época 626: perda 0.09784\n",
            "Época 627: perda 0.06690\n",
            "Época 628: perda 0.04884\n",
            "Época 629: perda 0.02683\n",
            "Época 630: perda 0.01802\n",
            "Época 631: perda 0.02563\n",
            "Época 632: perda 0.03074\n",
            "Época 633: perda 0.03346\n",
            "Época 634: perda 0.02547\n",
            "Época 635: perda 0.02264\n",
            "Época 636: perda 0.03487\n",
            "Época 637: perda 0.02335\n",
            "Época 638: perda 0.02546\n",
            "Época 639: perda 0.03034\n",
            "Época 640: perda 0.05524\n",
            "Época 641: perda 0.01956\n",
            "Época 642: perda 0.01540\n",
            "Época 643: perda 0.01517\n",
            "Época 644: perda 0.02179\n",
            "Época 645: perda 0.01796\n",
            "Época 646: perda 0.02531\n",
            "Época 647: perda 0.03084\n",
            "Época 648: perda 0.02304\n",
            "Época 649: perda 0.03464\n",
            "Época 650: perda 0.02869\n",
            "Época 651: perda 0.03256\n",
            "Época 652: perda 0.16890\n",
            "Época 653: perda 0.22518\n",
            "Época 654: perda 0.09311\n",
            "Época 655: perda 0.04365\n",
            "Época 656: perda 0.06019\n",
            "Época 657: perda 0.05034\n",
            "Época 658: perda 0.05311\n",
            "Época 659: perda 0.02752\n",
            "Época 660: perda 0.02301\n",
            "Época 661: perda 0.02442\n",
            "Época 662: perda 0.02490\n",
            "Época 663: perda 0.02506\n",
            "Época 664: perda 0.02564\n",
            "Época 665: perda 0.03529\n",
            "Época 666: perda 0.04056\n",
            "Época 667: perda 0.02588\n",
            "Época 668: perda 0.02074\n",
            "Época 669: perda 0.01953\n",
            "Época 670: perda 0.02074\n",
            "Época 671: perda 0.01607\n",
            "Época 672: perda 0.01433\n",
            "Época 673: perda 0.02018\n",
            "Época 674: perda 0.01804\n",
            "Época 675: perda 0.02575\n",
            "Época 676: perda 0.04945\n",
            "Época 677: perda 0.02697\n",
            "Época 678: perda 0.04891\n",
            "Época 679: perda 0.08131\n",
            "Época 680: perda 0.16846\n",
            "Época 681: perda 0.14128\n",
            "Época 682: perda 0.10426\n",
            "Época 683: perda 0.06278\n",
            "Época 684: perda 0.04286\n",
            "Época 685: perda 0.05941\n",
            "Época 686: perda 0.03380\n",
            "Época 687: perda 0.02095\n",
            "Época 688: perda 0.01743\n",
            "Época 689: perda 0.02027\n",
            "Época 690: perda 0.01695\n",
            "Época 691: perda 0.02692\n",
            "Época 692: perda 0.01810\n",
            "Época 693: perda 0.01770\n",
            "Época 694: perda 0.01872\n",
            "Época 695: perda 0.02159\n",
            "Época 696: perda 0.02104\n",
            "Época 697: perda 0.02949\n",
            "Época 698: perda 0.03894\n",
            "Época 699: perda 0.06223\n",
            "Época 700: perda 0.06497\n",
            "Época 701: perda 0.11793\n",
            "Época 702: perda 0.08694\n",
            "Época 703: perda 0.06731\n",
            "Época 704: perda 0.04391\n",
            "Época 705: perda 0.02344\n",
            "Época 706: perda 0.02150\n",
            "Época 707: perda 0.01813\n",
            "Época 708: perda 0.01871\n",
            "Época 709: perda 0.02141\n",
            "Época 710: perda 0.05090\n",
            "Época 711: perda 0.03854\n",
            "Época 712: perda 0.02212\n",
            "Época 713: perda 0.02558\n",
            "Época 714: perda 0.02881\n",
            "Época 715: perda 0.01715\n",
            "Época 716: perda 0.01762\n",
            "Época 717: perda 0.02376\n",
            "Época 718: perda 0.05866\n",
            "Época 719: perda 0.07434\n",
            "Época 720: perda 0.03918\n",
            "Época 721: perda 0.07313\n",
            "Época 722: perda 0.03645\n",
            "Época 723: perda 0.03326\n",
            "Época 724: perda 0.05865\n",
            "Época 725: perda 0.11525\n",
            "Época 726: perda 0.09839\n",
            "Época 727: perda 0.04510\n",
            "Época 728: perda 0.03042\n",
            "Época 729: perda 0.03124\n",
            "Época 730: perda 0.02225\n",
            "Época 731: perda 0.01900\n",
            "Época 732: perda 0.01813\n",
            "Época 733: perda 0.02305\n",
            "Época 734: perda 0.02054\n",
            "Época 735: perda 0.03074\n",
            "Época 736: perda 0.01850\n",
            "Época 737: perda 0.02337\n",
            "Época 738: perda 0.01889\n",
            "Época 739: perda 0.03592\n",
            "Época 740: perda 0.02887\n",
            "Época 741: perda 0.04044\n",
            "Época 742: perda 0.05668\n",
            "Época 743: perda 0.06638\n",
            "Época 744: perda 0.06973\n",
            "Época 745: perda 0.07803\n",
            "Época 746: perda 0.06691\n",
            "Época 747: perda 0.03855\n",
            "Época 748: perda 0.02763\n",
            "Época 749: perda 0.04019\n",
            "Época 750: perda 0.12335\n",
            "Época 751: perda 0.10008\n",
            "Época 752: perda 0.07709\n",
            "Época 753: perda 0.03700\n",
            "Época 754: perda 0.02251\n",
            "Época 755: perda 0.01653\n",
            "Época 756: perda 0.01541\n",
            "Época 757: perda 0.01656\n",
            "Época 758: perda 0.01465\n",
            "Época 759: perda 0.01388\n",
            "Época 760: perda 0.01559\n",
            "Época 761: perda 0.01488\n",
            "Época 762: perda 0.01459\n",
            "Época 763: perda 0.01270\n",
            "Época 764: perda 0.01470\n",
            "Época 765: perda 0.01363\n",
            "Época 766: perda 0.01678\n",
            "Época 767: perda 0.01397\n",
            "Época 768: perda 0.01453\n",
            "Época 769: perda 0.01802\n",
            "Época 770: perda 0.11587\n",
            "Época 771: perda 0.17066\n",
            "Época 772: perda 0.06001\n",
            "Época 773: perda 0.03080\n",
            "Época 774: perda 0.02302\n",
            "Época 775: perda 0.04677\n",
            "Época 776: perda 0.05864\n",
            "Época 777: perda 0.02007\n",
            "Época 778: perda 0.01904\n",
            "Época 779: perda 0.01769\n",
            "Época 780: perda 0.01856\n",
            "Época 781: perda 0.02589\n",
            "Época 782: perda 0.02579\n",
            "Época 783: perda 0.01810\n",
            "Época 784: perda 0.01390\n",
            "Época 785: perda 0.01847\n",
            "Época 786: perda 0.01237\n",
            "Época 787: perda 0.01819\n",
            "Época 788: perda 0.01924\n",
            "Época 789: perda 0.01745\n",
            "Época 790: perda 0.05651\n",
            "Época 791: perda 0.10209\n",
            "Época 792: perda 0.10211\n",
            "Época 793: perda 0.05526\n",
            "Época 794: perda 0.04984\n",
            "Época 795: perda 0.04317\n",
            "Época 796: perda 0.04592\n",
            "Época 797: perda 0.03682\n",
            "Época 798: perda 0.02303\n",
            "Época 799: perda 0.02084\n",
            "Época 800: perda 0.02405\n",
            "Época 801: perda 0.02183\n",
            "Época 802: perda 0.01670\n",
            "Época 803: perda 0.01364\n",
            "Época 804: perda 0.01436\n",
            "Época 805: perda 0.01622\n",
            "Época 806: perda 0.01495\n",
            "Época 807: perda 0.01579\n",
            "Época 808: perda 0.01676\n",
            "Época 809: perda 0.09033\n",
            "Época 810: perda 0.13697\n",
            "Época 811: perda 0.06570\n",
            "Época 812: perda 0.04793\n",
            "Época 813: perda 0.06868\n",
            "Época 814: perda 0.04995\n",
            "Época 815: perda 0.03793\n",
            "Época 816: perda 0.04995\n",
            "Época 817: perda 0.05900\n",
            "Época 818: perda 0.08464\n",
            "Época 819: perda 0.03580\n",
            "Época 820: perda 0.02329\n",
            "Época 821: perda 0.02004\n",
            "Época 822: perda 0.01844\n",
            "Época 823: perda 0.01886\n",
            "Época 824: perda 0.01265\n",
            "Época 825: perda 0.01778\n",
            "Época 826: perda 0.01580\n",
            "Época 827: perda 0.01605\n",
            "Época 828: perda 0.01420\n",
            "Época 829: perda 0.01156\n",
            "Época 830: perda 0.01431\n",
            "Época 831: perda 0.01320\n",
            "Época 832: perda 0.01518\n",
            "Época 833: perda 0.01976\n",
            "Época 834: perda 0.03544\n",
            "Época 835: perda 0.02556\n",
            "Época 836: perda 0.02132\n",
            "Época 837: perda 0.02966\n",
            "Época 838: perda 0.02927\n",
            "Época 839: perda 0.07998\n",
            "Época 840: perda 0.26539\n",
            "Época 841: perda 0.09847\n",
            "Época 842: perda 0.12887\n",
            "Época 843: perda 0.08584\n",
            "Época 844: perda 0.05297\n",
            "Época 845: perda 0.04085\n",
            "Época 846: perda 0.03875\n",
            "Época 847: perda 0.03094\n",
            "Época 848: perda 0.02771\n",
            "Época 849: perda 0.02515\n",
            "Época 850: perda 0.02450\n",
            "Época 851: perda 0.03008\n",
            "Época 852: perda 0.03638\n",
            "Época 853: perda 0.04287\n",
            "Época 854: perda 0.02506\n",
            "Época 855: perda 0.02441\n",
            "Época 856: perda 0.02904\n",
            "Época 857: perda 0.01976\n",
            "Época 858: perda 0.01755\n",
            "Época 859: perda 0.01770\n",
            "Época 860: perda 0.01554\n",
            "Época 861: perda 0.01311\n",
            "Época 862: perda 0.01770\n",
            "Época 863: perda 0.01715\n",
            "Época 864: perda 0.01512\n",
            "Época 865: perda 0.01225\n",
            "Época 866: perda 0.01351\n",
            "Época 867: perda 0.01720\n",
            "Época 868: perda 0.01716\n",
            "Época 869: perda 0.01607\n",
            "Época 870: perda 0.04724\n",
            "Época 871: perda 0.07685\n",
            "Época 872: perda 0.06733\n",
            "Época 873: perda 0.04269\n",
            "Época 874: perda 0.04336\n",
            "Época 875: perda 0.05601\n",
            "Época 876: perda 0.13826\n",
            "Época 877: perda 0.10917\n",
            "Época 878: perda 0.03151\n",
            "Época 879: perda 0.02776\n",
            "Época 880: perda 0.02218\n",
            "Época 881: perda 0.01553\n",
            "Época 882: perda 0.01432\n",
            "Época 883: perda 0.01596\n",
            "Época 884: perda 0.01315\n",
            "Época 885: perda 0.01122\n",
            "Época 886: perda 0.01157\n",
            "Época 887: perda 0.01245\n",
            "Época 888: perda 0.01217\n",
            "Época 889: perda 0.01121\n",
            "Época 890: perda 0.01370\n",
            "Época 891: perda 0.02537\n",
            "Época 892: perda 0.05063\n",
            "Época 893: perda 0.06229\n",
            "Época 894: perda 0.07872\n",
            "Época 895: perda 0.15647\n",
            "Época 896: perda 0.15631\n",
            "Época 897: perda 0.07165\n",
            "Época 898: perda 0.04778\n",
            "Época 899: perda 0.02657\n",
            "Época 900: perda 0.01739\n",
            "Época 901: perda 0.01349\n",
            "Época 902: perda 0.01428\n",
            "Época 903: perda 0.01363\n",
            "Época 904: perda 0.01251\n",
            "Época 905: perda 0.01209\n",
            "Época 906: perda 0.01325\n",
            "Época 907: perda 0.01185\n",
            "Época 908: perda 0.01269\n",
            "Época 909: perda 0.01342\n",
            "Época 910: perda 0.01295\n",
            "Época 911: perda 0.01181\n",
            "Época 912: perda 0.01188\n",
            "Época 913: perda 0.01248\n",
            "Época 914: perda 0.01235\n",
            "Época 915: perda 0.01230\n",
            "Época 916: perda 0.01084\n",
            "Época 917: perda 0.01151\n",
            "Época 918: perda 0.01116\n",
            "Época 919: perda 0.01377\n",
            "Época 920: perda 0.01400\n",
            "Época 921: perda 0.01822\n",
            "Época 922: perda 0.01711\n",
            "Época 923: perda 0.01617\n",
            "Época 924: perda 0.04626\n",
            "Época 925: perda 0.07594\n",
            "Época 926: perda 0.07821\n",
            "Época 927: perda 0.09977\n",
            "Época 928: perda 0.19619\n",
            "Época 929: perda 0.12368\n",
            "Época 930: perda 0.07015\n",
            "Época 931: perda 0.05417\n",
            "Época 932: perda 0.02140\n",
            "Época 933: perda 0.01897\n",
            "Época 934: perda 0.01746\n",
            "Época 935: perda 0.01505\n",
            "Época 936: perda 0.01759\n",
            "Época 937: perda 0.02787\n",
            "Época 938: perda 0.05767\n",
            "Época 939: perda 0.03007\n",
            "Época 940: perda 0.01752\n",
            "Época 941: perda 0.01412\n",
            "Época 942: perda 0.01168\n",
            "Época 943: perda 0.01595\n",
            "Época 944: perda 0.03255\n",
            "Época 945: perda 0.01239\n",
            "Época 946: perda 0.01506\n",
            "Época 947: perda 0.00991\n",
            "Época 948: perda 0.03065\n",
            "Época 949: perda 0.03701\n",
            "Época 950: perda 0.04090\n",
            "Época 951: perda 0.09048\n",
            "Época 952: perda 0.03597\n",
            "Época 953: perda 0.11726\n",
            "Época 954: perda 0.17058\n",
            "Época 955: perda 0.07801\n",
            "Época 956: perda 0.05840\n",
            "Época 957: perda 0.02503\n",
            "Época 958: perda 0.01549\n",
            "Época 959: perda 0.01390\n",
            "Época 960: perda 0.01287\n",
            "Época 961: perda 0.01189\n",
            "Época 962: perda 0.01140\n",
            "Época 963: perda 0.01249\n",
            "Época 964: perda 0.01300\n",
            "Época 965: perda 0.01218\n",
            "Época 966: perda 0.01329\n",
            "Época 967: perda 0.01045\n",
            "Época 968: perda 0.01083\n",
            "Época 969: perda 0.01522\n",
            "Época 970: perda 0.01253\n",
            "Época 971: perda 0.02039\n",
            "Época 972: perda 0.03217\n",
            "Época 973: perda 0.02440\n",
            "Época 974: perda 0.09419\n",
            "Época 975: perda 0.03810\n",
            "Época 976: perda 0.01810\n",
            "Época 977: perda 0.01624\n",
            "Época 978: perda 0.01281\n",
            "Época 979: perda 0.01774\n",
            "Época 980: perda 0.01221\n",
            "Época 981: perda 0.01938\n",
            "Época 982: perda 0.02069\n",
            "Época 983: perda 0.02248\n",
            "Época 984: perda 0.02506\n",
            "Época 985: perda 0.03518\n",
            "Época 986: perda 0.04757\n",
            "Época 987: perda 0.03426\n",
            "Época 988: perda 0.03003\n",
            "Época 989: perda 0.01877\n",
            "Época 990: perda 0.01630\n",
            "Época 991: perda 0.02228\n",
            "Época 992: perda 0.01640\n",
            "Época 993: perda 0.01514\n",
            "Época 994: perda 0.03063\n",
            "Época 995: perda 0.03648\n",
            "Época 996: perda 0.09673\n",
            "Época 997: perda 0.05250\n",
            "Época 998: perda 0.02349\n",
            "Época 999: perda 0.01506\n",
            "Época 1000: perda 0.01343\n"
          ]
        }
      ]
    },
    {
      "cell_type": "markdown",
      "metadata": {
        "id": "80vyJ32MI8QT"
      },
      "source": [
        ">### Etapa 6 - Visualização dos pesos"
      ]
    },
    {
      "cell_type": "code",
      "metadata": {
        "id": "VQ1WYAwkJFZh"
      },
      "source": [
        "params = list(classificador.parameters())"
      ],
      "execution_count": 100,
      "outputs": []
    },
    {
      "cell_type": "code",
      "metadata": {
        "colab": {
          "base_uri": "https://localhost:8080/"
        },
        "id": "gYiywAH7JRmR",
        "outputId": "c15ed5d8-bbf0-48a4-b021-5c2dda922533"
      },
      "source": [
        "params"
      ],
      "execution_count": 101,
      "outputs": [
        {
          "output_type": "execute_result",
          "data": {
            "text/plain": [
              "[Parameter containing:\n",
              " tensor([[-3.4083e-01, -4.7026e-01, -4.6565e-01,  7.4826e-02, -1.5653e-02,\n",
              "           8.7919e-03,  2.7915e-02,  6.5618e-03, -1.7543e-02,  1.3366e-01,\n",
              "           6.6988e-02,  9.5304e-02, -1.6608e-01,  1.4688e-02,  8.6687e-04,\n",
              "          -8.8594e-03, -1.6359e-01,  5.0327e-04,  4.7089e-01,  9.6692e-04,\n",
              "          -2.1427e-01, -5.2192e-01, -3.5202e-01,  9.5634e-02,  7.9063e-01,\n",
              "           3.0379e-01, -2.6439e-01,  6.1931e-02,  3.2263e-01, -1.2992e-02],\n",
              "         [ 7.3980e-01,  1.3780e-01,  7.2602e-01,  1.4453e-01, -6.4926e-01,\n",
              "          -5.4948e-02, -3.1710e-02, -1.8430e-01, -1.5479e-01,  7.0328e-02,\n",
              "           2.2506e-01, -9.5729e-02, -5.6954e-02,  1.0985e-01, -4.9175e-03,\n",
              "          -7.2801e-02,  1.9797e-01, -1.6857e-02, -4.2540e-01, -9.6452e-03,\n",
              "           6.5549e-01, -3.6487e-01,  4.9125e-01,  6.3752e-02, -1.2041e-01,\n",
              "          -2.2323e-01, -6.2139e-01,  1.5040e-02, -3.4235e-01, -3.0804e-01],\n",
              "         [-5.4652e-02, -1.2591e-01, -3.1521e-01, -1.1080e-01, -1.7244e-04,\n",
              "           1.3146e-03,  9.8300e-04,  4.2904e-05, -1.3820e-03,  4.2308e-01,\n",
              "           3.8297e-01,  7.6278e-02, -9.0302e-02,  3.2051e-02,  1.4934e-07,\n",
              "          -6.7583e-03,  8.3060e-06,  2.5974e-07,  3.2292e-07,  5.0277e-08,\n",
              "          -4.0130e-02, -2.1367e-01, -1.6314e-01,  1.3435e-02, -3.1485e-01,\n",
              "           2.2034e-04,  3.7616e-03,  1.6425e-01, -4.6797e-02, -1.9593e-05],\n",
              "         [-6.5702e-01,  2.1468e-01, -3.7980e-01,  1.5624e-01,  2.5252e-01,\n",
              "           5.8325e-02,  4.1474e-01,  6.9439e-03,  1.7118e-02, -3.3218e-02,\n",
              "           3.5656e-01, -1.8438e-01,  1.0210e-02,  1.3098e-01,  4.0424e-03,\n",
              "           1.7523e-02, -4.1507e-02,  8.3426e-03, -2.4105e-02,  2.2511e-03,\n",
              "          -2.2618e-01,  3.2651e-01, -2.6380e-01,  1.4861e-01,  1.5129e-01,\n",
              "           1.3742e-02, -7.3506e-03,  5.4688e-01,  2.8570e-01,  4.5966e-02],\n",
              "         [-9.5925e-01,  3.5105e-02, -4.9106e-01, -2.0061e-01,  6.4833e-01,\n",
              "           3.0410e-01,  4.7463e-01, -8.1500e-02, -9.0554e-01,  3.5034e-01,\n",
              "          -3.2194e-01,  1.7550e-02, -2.5351e-02,  3.0603e-02,  1.0877e-02,\n",
              "           5.1138e-02, -3.1767e-01,  2.2004e-02,  6.9869e-01,  8.3714e-02,\n",
              "          -6.5397e-01,  8.0411e-01, -2.4984e-01,  3.9078e-01,  1.5334e-01,\n",
              "          -1.7892e-01, -8.1596e-01, -2.1597e-01,  1.4671e-01,  4.6100e-01],\n",
              "         [ 1.6819e-01, -2.3659e-01,  1.1853e-01,  1.6583e-01, -2.9317e-05,\n",
              "           7.2180e-01,  8.3235e-01,  1.4314e-02,  5.3164e-01, -2.6764e-01,\n",
              "           3.4373e-01,  2.6460e-01, -1.5992e-01,  5.6399e-01,  1.6268e-03,\n",
              "          -8.3698e-03,  3.7931e-01, -1.2162e-02, -3.2256e-01, -2.4835e-02,\n",
              "           1.0217e-01, -7.6405e-01, -1.6037e-01, -8.2858e-02, -1.6018e-01,\n",
              "          -4.1979e-02, -1.1781e-01,  3.0033e-01,  1.0905e-01, -2.0660e-01],\n",
              "         [ 2.7860e-01, -1.3015e-02,  5.7424e-01, -1.8899e-01, -3.2501e-03,\n",
              "          -4.2525e-01, -3.6374e-01, -8.2299e-03,  1.5022e-01,  2.0681e-03,\n",
              "          -9.7115e-02, -2.3870e-01,  9.2256e-02,  4.5804e-02,  2.8752e-05,\n",
              "          -1.4289e-03, -8.7178e-04, -7.4732e-05,  3.3276e-02, -6.2131e-05,\n",
              "           3.2197e-01, -3.7785e-01,  4.3999e-01, -2.2160e-01, -4.3193e-01,\n",
              "           1.3283e-01,  4.6257e-01, -1.0674e-01, -2.2668e-01, -6.4063e-03],\n",
              "         [-7.6748e-01,  5.8934e-01, -5.6789e-01, -2.2689e-01, -9.2044e-02,\n",
              "           5.1004e-01, -4.1887e-01,  1.8006e-01,  2.4579e-01, -8.2820e-03,\n",
              "          -1.3439e-01, -1.9589e-01,  1.1751e-01,  4.0779e-01, -4.6254e-04,\n",
              "           4.5745e-03,  9.1967e-03,  8.5226e-05, -1.7570e-02,  1.9581e-04,\n",
              "          -6.0090e-01,  1.0572e+00, -6.1274e-01,  1.1445e-01,  1.8633e-01,\n",
              "          -5.6036e-01,  4.1237e-02,  4.6514e-01, -3.8131e-02,  5.5123e-01],\n",
              "         [-5.5722e-01, -4.9693e-01, -9.0213e-01, -2.8417e-02,  9.9906e-02,\n",
              "           2.3765e-01, -8.4303e-01,  4.2929e-02,  1.6557e-01,  2.9834e-01,\n",
              "           2.2204e-01,  3.3068e-02,  2.1243e-02,  2.7782e-01,  5.1024e-03,\n",
              "           4.1436e-02, -7.6437e-02,  9.0773e-03,  5.3379e-01, -2.7790e-02,\n",
              "          -8.3963e-01,  4.2782e-02, -6.5363e-01,  2.9847e-01,  2.1226e-02,\n",
              "           1.5112e-01, -1.8035e-01,  3.2182e-01, -3.1030e-02,  2.8319e-01],\n",
              "         [ 3.9683e-01, -4.8737e-01,  6.1009e-01,  4.2026e-02, -3.7482e-01,\n",
              "           2.5630e-01, -1.0062e-01, -2.8641e-02,  1.2370e-01, -6.0787e-03,\n",
              "          -1.2248e-01, -1.5755e-01,  1.4057e-01, -1.1455e-01, -5.0817e-03,\n",
              "          -4.6389e-02,  4.3650e-01, -1.6397e-02,  2.8282e-01, -1.1241e-01,\n",
              "           4.9634e-01, -1.2831e+00,  4.3617e-01, -1.7275e-01,  4.4454e-01,\n",
              "           6.9909e-02, -1.8019e-02, -2.4580e-01,  1.5130e-01, -5.1763e-01],\n",
              "         [-2.2963e-01, -1.1073e-01, -2.0721e-01, -7.4330e-02,  2.8988e-04,\n",
              "          -1.6752e-02, -6.0683e-02,  2.8332e-06,  4.4337e-01, -3.0645e-02,\n",
              "           7.3342e-02, -1.7798e-02, -7.0363e-02, -2.6377e-02,  9.9680e-07,\n",
              "           6.7574e-06,  4.0069e-06,  1.9392e-06, -6.1613e-02,  2.2754e-06,\n",
              "          -2.6003e-01, -7.3140e-03, -1.5149e-01,  9.1834e-02,  2.7406e-01,\n",
              "          -3.6398e-02,  4.9924e-01,  1.0254e-01, -9.6665e-02,  1.7668e-04],\n",
              "         [ 4.5922e-01,  5.7291e-01,  5.6115e-01,  1.0779e-01,  8.9706e-02,\n",
              "           1.7997e-01, -3.8526e-01,  1.3471e-01,  5.6038e-01, -2.7869e-01,\n",
              "           7.8799e-02,  8.9264e-02, -2.3165e-02, -6.7236e-01,  3.3578e-03,\n",
              "           1.0499e-02,  9.1215e-02,  5.9955e-03, -5.4832e-01, -3.7730e-02,\n",
              "           5.9642e-01,  3.5227e-01,  6.4621e-01, -2.4353e-01, -8.9216e-01,\n",
              "           1.5846e-01,  2.1119e-01,  4.0544e-02,  2.7646e-01,  1.3713e-02],\n",
              "         [ 1.2134e-01,  7.3240e-01, -2.4827e-01, -3.0764e-01,  2.6061e-01,\n",
              "           2.9635e-01,  5.4960e-01, -8.4531e-03,  4.7944e-02,  5.9771e-03,\n",
              "           1.3441e-03, -6.4483e-02,  8.6671e-02, -2.8879e-01,  6.0701e-04,\n",
              "           2.1160e-03, -1.6649e-01,  9.6491e-04, -2.4106e-01,  5.5765e-02,\n",
              "           1.9147e-01,  1.2904e+00,  1.8034e-01,  3.1771e-02, -5.3394e-01,\n",
              "           4.5163e-01,  5.7433e-01,  3.9285e-02,  1.1610e-02,  5.3423e-02],\n",
              "         [-8.3293e-02, -2.7599e-01, -3.1634e-01, -1.6367e-02, -6.9312e-06,\n",
              "           3.4157e-02, -8.1861e-07,  8.9359e-07,  3.3758e-02,  2.8036e-02,\n",
              "           2.2614e-01, -1.1540e-03, -7.9900e-02,  1.3215e-01,  1.3692e-07,\n",
              "           3.1761e-07,  5.8087e-07,  1.8257e-07, -2.2506e-02,  4.6722e-08,\n",
              "          -8.4175e-02, -3.2994e-01, -3.2403e-01,  7.3244e-02, -6.0899e-02,\n",
              "          -1.1007e-03, -9.6565e-04,  5.6938e-02,  3.6106e-02, -1.4646e-06],\n",
              "         [-4.2624e-06, -3.6189e-05, -1.4415e-02, -5.2207e-02, -5.0337e-40,\n",
              "          -6.1337e-40,  4.5489e-40,  2.1898e-39, -1.2274e-39, -2.4058e-03,\n",
              "          -2.8330e-39, -2.9286e-03, -2.4810e-02, -1.0509e-02, -1.8401e-40,\n",
              "          -4.5371e-39, -9.8835e-40, -7.6609e-40, -4.5390e-40,  1.9723e-39,\n",
              "          -1.0463e-05, -1.7938e-04, -1.7147e-02, -5.3596e-02, -9.4572e-14,\n",
              "          -3.7651e-39, -2.5093e-39, -2.1185e-41,  2.7201e-15,  2.2823e-39],\n",
              "         [-4.1893e-14, -2.8175e-25, -1.0642e-03, -1.9573e-02, -5.1784e-31,\n",
              "          -6.4337e-31,  1.0170e-31, -6.0813e-31,  4.6521e-31,  2.4963e-31,\n",
              "          -2.0612e-02,  1.3122e-29, -2.8436e-02, -1.0709e-04, -1.5322e-31,\n",
              "           2.9800e-31,  4.0228e-31, -1.3815e-31, -4.5618e-32,  9.1535e-33,\n",
              "          -9.9608e-12,  1.1504e-23, -1.9514e-03, -2.2216e-02, -1.6486e-31,\n",
              "          -1.3175e-30, -6.8508e-31,  6.6830e-31, -1.9930e-30, -6.5511e-31]],\n",
              "        requires_grad=True), Parameter containing:\n",
              " tensor([-8.6191e-02,  6.5746e-01, -2.3641e-02, -2.3392e-01, -8.5453e-01,\n",
              "          1.4398e-01,  9.1389e-02, -4.1640e-01, -7.1577e-01,  5.1152e-01,\n",
              "          1.3710e-03,  3.0188e-01,  7.5959e-02, -1.1735e-02, -2.8436e-39,\n",
              "         -1.9414e-30], requires_grad=True), Parameter containing:\n",
              " tensor([[-5.4797e-02, -1.4502e-01, -4.6751e-03, -1.5617e-02,  1.4171e-01,\n",
              "          -1.0678e-01,  9.7798e-02,  6.5036e-02, -2.0900e-01, -2.7394e-01,\n",
              "           1.5249e-01,  1.8893e-01,  3.3933e-01, -6.1931e-39, -2.5918e-36,\n",
              "          -2.7137e-32],\n",
              "         [ 1.3229e-02, -5.7002e-01,  8.3364e-02, -1.0173e-03, -1.0147e-01,\n",
              "           1.0847e-01, -6.4349e-03, -8.0008e-02,  5.1897e-02, -7.5583e-01,\n",
              "          -1.2841e-01,  6.7043e-02, -2.1082e-01,  6.9994e-02, -1.0101e-02,\n",
              "           4.8247e-33],\n",
              "         [ 3.3816e-01, -3.2234e-02,  1.7626e-01,  2.3833e-01,  3.3461e-01,\n",
              "          -1.3209e-01, -2.6069e-01, -1.6437e-01,  1.3920e-01, -8.8597e-02,\n",
              "           8.4487e-02, -2.4535e-01,  2.5051e-01,  5.1227e-02,  6.3848e-03,\n",
              "          -2.5727e-02],\n",
              "         [-4.9045e-01,  6.5779e-02,  2.5831e-02, -2.7687e-01, -1.1783e-01,\n",
              "           1.1077e-01,  3.3867e-01,  3.1541e-02,  1.6872e-01,  1.6391e-01,\n",
              "          -2.8212e-01,  3.5482e-01,  9.3050e-02,  1.5217e-02, -6.8759e-03,\n",
              "           2.9108e-02],\n",
              "         [ 3.3619e-01, -3.8088e-01, -1.4657e-39, -1.8966e-01, -1.2120e-01,\n",
              "          -1.3121e+00,  1.9243e-01,  5.3306e-01,  9.0133e-02,  1.1505e-03,\n",
              "          -7.5818e-02,  3.5815e-01, -9.7267e-02,  7.0484e-06,  1.3608e-02,\n",
              "          -3.0438e-02],\n",
              "         [-5.8327e-39,  1.5515e-14,  4.0804e-39,  8.7756e-15, -5.7847e-05,\n",
              "           1.4575e-04, -2.7782e-37, -2.5646e-40, -3.7469e-04,  5.8061e-13,\n",
              "          -7.8659e-40, -1.6604e-03, -6.0072e-08,  9.2564e-40,  6.9450e-38,\n",
              "          -7.8724e-38],\n",
              "         [-9.6038e-02, -1.0993e-01,  1.1246e-01, -2.0159e-02,  2.5447e-01,\n",
              "           2.0952e-01, -1.3604e-02, -1.2398e-01, -1.2087e-01, -9.4057e-01,\n",
              "           2.2748e-03,  1.2330e-01,  1.8020e-01,  1.2510e-01, -1.6510e-02,\n",
              "           3.8494e-32],\n",
              "         [-6.4472e-07, -4.6129e-07,  2.7119e-13,  2.3898e-08, -4.4077e-07,\n",
              "          -1.3295e-06, -6.9490e-09,  4.2780e-09, -1.6238e-07,  6.4778e-09,\n",
              "          -7.8634e-15, -1.8928e-07,  3.5051e-09,  1.2304e-13,  1.5951e-39,\n",
              "          -1.1278e-39],\n",
              "         [-2.1189e-01,  1.6675e-01, -2.4389e-01, -2.0020e-01,  3.0392e-02,\n",
              "           1.9349e-01,  1.6872e-02,  1.2029e-01, -3.3085e-01, -6.5090e-01,\n",
              "           6.9258e-02,  1.9165e-01, -6.7392e-02,  1.7124e-01,  3.1039e-02,\n",
              "           2.1671e-31],\n",
              "         [ 6.1662e-02,  1.1389e-01, -2.5793e-39,  7.1061e-02, -3.1153e-01,\n",
              "          -4.0010e-01,  1.3302e-01, -3.6223e-01, -2.1995e-01,  2.2566e-01,\n",
              "          -1.9086e-01,  5.2761e-02, -3.6877e-01,  5.5712e-03,  4.1660e-04,\n",
              "          -3.3659e-32],\n",
              "         [ 3.9548e-02, -1.0792e-01, -2.6021e-03, -5.4691e-01, -6.3086e-01,\n",
              "          -2.3771e-02,  1.5511e-01, -1.7393e-01, -1.1947e-01,  9.9410e-02,\n",
              "           1.2883e-01,  2.1305e-01,  2.7880e-01,  5.1975e-39,  9.3545e-03,\n",
              "          -9.8390e-33],\n",
              "         [ 1.6198e-01,  4.5648e-02, -2.8944e-01, -3.3563e-02, -4.7829e-01,\n",
              "           1.7330e-01,  1.9461e-01,  4.8094e-03, -4.8560e-01,  2.2364e-01,\n",
              "          -2.4566e-02,  2.6006e-01, -4.6052e-02, -2.3764e-01,  1.2203e-14,\n",
              "           1.4688e-02],\n",
              "         [ 2.1737e-01, -3.1257e-01, -1.3971e-38,  1.0349e-02,  4.4335e-02,\n",
              "          -4.1142e-01, -4.6681e-02, -1.7793e-02,  2.9647e-01, -9.1826e-02,\n",
              "           3.3793e-01,  2.2162e-01,  5.2667e-02,  3.3575e-10,  8.9274e-03,\n",
              "          -4.3479e-05],\n",
              "         [-2.9874e-01,  2.3893e-01, -1.0938e-01, -2.4197e-01, -1.2534e-01,\n",
              "           1.2099e-01,  6.2945e-39,  3.3340e-08, -2.4537e-01, -1.2874e-01,\n",
              "          -4.4343e-03,  1.8145e-01, -3.0652e-01, -7.2304e-04,  2.4278e-02,\n",
              "           9.1591e-32],\n",
              "         [-6.9820e-03,  2.2814e-01,  4.5626e-39, -7.8973e-02, -1.7775e-01,\n",
              "          -3.7054e-01,  1.1139e-12, -1.8289e-01, -6.5253e-01,  1.5477e-01,\n",
              "           1.9604e-01,  3.0753e-01, -2.1875e-01, -6.4969e-02,  4.5129e-40,\n",
              "          -6.0073e-37],\n",
              "         [ 9.8651e-03,  1.5524e-03, -5.3248e-38,  1.3878e-03, -3.5779e-02,\n",
              "          -9.6623e-03, -1.3947e-07,  1.9489e-04, -3.1190e-02, -7.8118e-03,\n",
              "           2.1437e-39, -1.6935e-02, -1.7075e-02,  1.9973e-39,  2.8096e-38,\n",
              "          -2.7407e-39]], requires_grad=True), Parameter containing:\n",
              " tensor([ 2.3119e-01, -3.3430e-02, -9.7437e-01,  8.8627e-01, -7.1001e-01,\n",
              "          1.2785e-16, -1.4742e-01, -8.6469e-09,  1.1828e-01,  5.6477e-01,\n",
              "          4.1647e-01,  4.0185e-01, -4.8011e-01,  1.2799e-01,  1.1230e-01,\n",
              "         -1.5384e-11], requires_grad=True), Parameter containing:\n",
              " tensor([[-3.1898e-01, -9.4344e-02, -9.1173e-02,  1.2506e-01, -2.6442e-01,\n",
              "          -2.4622e-03, -1.4014e-01, -6.8164e-07,  1.7623e-01,  3.7967e-01,\n",
              "           3.6935e-01,  3.7766e-01, -1.2991e-01,  7.4108e-02,  2.6094e-01,\n",
              "           3.5697e-03]], requires_grad=True), Parameter containing:\n",
              " tensor([1.7087], requires_grad=True)]"
            ]
          },
          "metadata": {},
          "execution_count": 101
        }
      ]
    },
    {
      "cell_type": "code",
      "metadata": {
        "colab": {
          "base_uri": "https://localhost:8080/"
        },
        "id": "GO0Gtl_fJjsA",
        "outputId": "b9e9644e-4387-489a-9de6-2eba60b01d3a"
      },
      "source": [
        "#pesos da primeira camada de ligação (braços)\n",
        "pesos0 = params[0]\n",
        "pesos0.shape"
      ],
      "execution_count": 102,
      "outputs": [
        {
          "output_type": "execute_result",
          "data": {
            "text/plain": [
              "torch.Size([16, 30])"
            ]
          },
          "metadata": {},
          "execution_count": 102
        }
      ]
    },
    {
      "cell_type": "code",
      "metadata": {
        "colab": {
          "base_uri": "https://localhost:8080/"
        },
        "id": "iyVad-m6Jtdx",
        "outputId": "ed378764-5f3c-44a2-e8bc-1f2b4612c449"
      },
      "source": [
        "print(pesos0)\n",
        "#essa saída fica algo como:\n",
        "#uma lista com 16 itens e cada item desses 16, composto por 30 valores\n",
        "#que são os valores de entre cada neurônio dos 16 da primeira camada oculta\n",
        "#ligando aos 30 da primeira camada da rede\n"
      ],
      "execution_count": 103,
      "outputs": [
        {
          "output_type": "stream",
          "name": "stdout",
          "text": [
            "Parameter containing:\n",
            "tensor([[-3.4083e-01, -4.7026e-01, -4.6565e-01,  7.4826e-02, -1.5653e-02,\n",
            "          8.7919e-03,  2.7915e-02,  6.5618e-03, -1.7543e-02,  1.3366e-01,\n",
            "          6.6988e-02,  9.5304e-02, -1.6608e-01,  1.4688e-02,  8.6687e-04,\n",
            "         -8.8594e-03, -1.6359e-01,  5.0327e-04,  4.7089e-01,  9.6692e-04,\n",
            "         -2.1427e-01, -5.2192e-01, -3.5202e-01,  9.5634e-02,  7.9063e-01,\n",
            "          3.0379e-01, -2.6439e-01,  6.1931e-02,  3.2263e-01, -1.2992e-02],\n",
            "        [ 7.3980e-01,  1.3780e-01,  7.2602e-01,  1.4453e-01, -6.4926e-01,\n",
            "         -5.4948e-02, -3.1710e-02, -1.8430e-01, -1.5479e-01,  7.0328e-02,\n",
            "          2.2506e-01, -9.5729e-02, -5.6954e-02,  1.0985e-01, -4.9175e-03,\n",
            "         -7.2801e-02,  1.9797e-01, -1.6857e-02, -4.2540e-01, -9.6452e-03,\n",
            "          6.5549e-01, -3.6487e-01,  4.9125e-01,  6.3752e-02, -1.2041e-01,\n",
            "         -2.2323e-01, -6.2139e-01,  1.5040e-02, -3.4235e-01, -3.0804e-01],\n",
            "        [-5.4652e-02, -1.2591e-01, -3.1521e-01, -1.1080e-01, -1.7244e-04,\n",
            "          1.3146e-03,  9.8300e-04,  4.2904e-05, -1.3820e-03,  4.2308e-01,\n",
            "          3.8297e-01,  7.6278e-02, -9.0302e-02,  3.2051e-02,  1.4934e-07,\n",
            "         -6.7583e-03,  8.3060e-06,  2.5974e-07,  3.2292e-07,  5.0277e-08,\n",
            "         -4.0130e-02, -2.1367e-01, -1.6314e-01,  1.3435e-02, -3.1485e-01,\n",
            "          2.2034e-04,  3.7616e-03,  1.6425e-01, -4.6797e-02, -1.9593e-05],\n",
            "        [-6.5702e-01,  2.1468e-01, -3.7980e-01,  1.5624e-01,  2.5252e-01,\n",
            "          5.8325e-02,  4.1474e-01,  6.9439e-03,  1.7118e-02, -3.3218e-02,\n",
            "          3.5656e-01, -1.8438e-01,  1.0210e-02,  1.3098e-01,  4.0424e-03,\n",
            "          1.7523e-02, -4.1507e-02,  8.3426e-03, -2.4105e-02,  2.2511e-03,\n",
            "         -2.2618e-01,  3.2651e-01, -2.6380e-01,  1.4861e-01,  1.5129e-01,\n",
            "          1.3742e-02, -7.3506e-03,  5.4688e-01,  2.8570e-01,  4.5966e-02],\n",
            "        [-9.5925e-01,  3.5105e-02, -4.9106e-01, -2.0061e-01,  6.4833e-01,\n",
            "          3.0410e-01,  4.7463e-01, -8.1500e-02, -9.0554e-01,  3.5034e-01,\n",
            "         -3.2194e-01,  1.7550e-02, -2.5351e-02,  3.0603e-02,  1.0877e-02,\n",
            "          5.1138e-02, -3.1767e-01,  2.2004e-02,  6.9869e-01,  8.3714e-02,\n",
            "         -6.5397e-01,  8.0411e-01, -2.4984e-01,  3.9078e-01,  1.5334e-01,\n",
            "         -1.7892e-01, -8.1596e-01, -2.1597e-01,  1.4671e-01,  4.6100e-01],\n",
            "        [ 1.6819e-01, -2.3659e-01,  1.1853e-01,  1.6583e-01, -2.9317e-05,\n",
            "          7.2180e-01,  8.3235e-01,  1.4314e-02,  5.3164e-01, -2.6764e-01,\n",
            "          3.4373e-01,  2.6460e-01, -1.5992e-01,  5.6399e-01,  1.6268e-03,\n",
            "         -8.3698e-03,  3.7931e-01, -1.2162e-02, -3.2256e-01, -2.4835e-02,\n",
            "          1.0217e-01, -7.6405e-01, -1.6037e-01, -8.2858e-02, -1.6018e-01,\n",
            "         -4.1979e-02, -1.1781e-01,  3.0033e-01,  1.0905e-01, -2.0660e-01],\n",
            "        [ 2.7860e-01, -1.3015e-02,  5.7424e-01, -1.8899e-01, -3.2501e-03,\n",
            "         -4.2525e-01, -3.6374e-01, -8.2299e-03,  1.5022e-01,  2.0681e-03,\n",
            "         -9.7115e-02, -2.3870e-01,  9.2256e-02,  4.5804e-02,  2.8752e-05,\n",
            "         -1.4289e-03, -8.7178e-04, -7.4732e-05,  3.3276e-02, -6.2131e-05,\n",
            "          3.2197e-01, -3.7785e-01,  4.3999e-01, -2.2160e-01, -4.3193e-01,\n",
            "          1.3283e-01,  4.6257e-01, -1.0674e-01, -2.2668e-01, -6.4063e-03],\n",
            "        [-7.6748e-01,  5.8934e-01, -5.6789e-01, -2.2689e-01, -9.2044e-02,\n",
            "          5.1004e-01, -4.1887e-01,  1.8006e-01,  2.4579e-01, -8.2820e-03,\n",
            "         -1.3439e-01, -1.9589e-01,  1.1751e-01,  4.0779e-01, -4.6254e-04,\n",
            "          4.5745e-03,  9.1967e-03,  8.5226e-05, -1.7570e-02,  1.9581e-04,\n",
            "         -6.0090e-01,  1.0572e+00, -6.1274e-01,  1.1445e-01,  1.8633e-01,\n",
            "         -5.6036e-01,  4.1237e-02,  4.6514e-01, -3.8131e-02,  5.5123e-01],\n",
            "        [-5.5722e-01, -4.9693e-01, -9.0213e-01, -2.8417e-02,  9.9906e-02,\n",
            "          2.3765e-01, -8.4303e-01,  4.2929e-02,  1.6557e-01,  2.9834e-01,\n",
            "          2.2204e-01,  3.3068e-02,  2.1243e-02,  2.7782e-01,  5.1024e-03,\n",
            "          4.1436e-02, -7.6437e-02,  9.0773e-03,  5.3379e-01, -2.7790e-02,\n",
            "         -8.3963e-01,  4.2782e-02, -6.5363e-01,  2.9847e-01,  2.1226e-02,\n",
            "          1.5112e-01, -1.8035e-01,  3.2182e-01, -3.1030e-02,  2.8319e-01],\n",
            "        [ 3.9683e-01, -4.8737e-01,  6.1009e-01,  4.2026e-02, -3.7482e-01,\n",
            "          2.5630e-01, -1.0062e-01, -2.8641e-02,  1.2370e-01, -6.0787e-03,\n",
            "         -1.2248e-01, -1.5755e-01,  1.4057e-01, -1.1455e-01, -5.0817e-03,\n",
            "         -4.6389e-02,  4.3650e-01, -1.6397e-02,  2.8282e-01, -1.1241e-01,\n",
            "          4.9634e-01, -1.2831e+00,  4.3617e-01, -1.7275e-01,  4.4454e-01,\n",
            "          6.9909e-02, -1.8019e-02, -2.4580e-01,  1.5130e-01, -5.1763e-01],\n",
            "        [-2.2963e-01, -1.1073e-01, -2.0721e-01, -7.4330e-02,  2.8988e-04,\n",
            "         -1.6752e-02, -6.0683e-02,  2.8332e-06,  4.4337e-01, -3.0645e-02,\n",
            "          7.3342e-02, -1.7798e-02, -7.0363e-02, -2.6377e-02,  9.9680e-07,\n",
            "          6.7574e-06,  4.0069e-06,  1.9392e-06, -6.1613e-02,  2.2754e-06,\n",
            "         -2.6003e-01, -7.3140e-03, -1.5149e-01,  9.1834e-02,  2.7406e-01,\n",
            "         -3.6398e-02,  4.9924e-01,  1.0254e-01, -9.6665e-02,  1.7668e-04],\n",
            "        [ 4.5922e-01,  5.7291e-01,  5.6115e-01,  1.0779e-01,  8.9706e-02,\n",
            "          1.7997e-01, -3.8526e-01,  1.3471e-01,  5.6038e-01, -2.7869e-01,\n",
            "          7.8799e-02,  8.9264e-02, -2.3165e-02, -6.7236e-01,  3.3578e-03,\n",
            "          1.0499e-02,  9.1215e-02,  5.9955e-03, -5.4832e-01, -3.7730e-02,\n",
            "          5.9642e-01,  3.5227e-01,  6.4621e-01, -2.4353e-01, -8.9216e-01,\n",
            "          1.5846e-01,  2.1119e-01,  4.0544e-02,  2.7646e-01,  1.3713e-02],\n",
            "        [ 1.2134e-01,  7.3240e-01, -2.4827e-01, -3.0764e-01,  2.6061e-01,\n",
            "          2.9635e-01,  5.4960e-01, -8.4531e-03,  4.7944e-02,  5.9771e-03,\n",
            "          1.3441e-03, -6.4483e-02,  8.6671e-02, -2.8879e-01,  6.0701e-04,\n",
            "          2.1160e-03, -1.6649e-01,  9.6491e-04, -2.4106e-01,  5.5765e-02,\n",
            "          1.9147e-01,  1.2904e+00,  1.8034e-01,  3.1771e-02, -5.3394e-01,\n",
            "          4.5163e-01,  5.7433e-01,  3.9285e-02,  1.1610e-02,  5.3423e-02],\n",
            "        [-8.3293e-02, -2.7599e-01, -3.1634e-01, -1.6367e-02, -6.9312e-06,\n",
            "          3.4157e-02, -8.1861e-07,  8.9359e-07,  3.3758e-02,  2.8036e-02,\n",
            "          2.2614e-01, -1.1540e-03, -7.9900e-02,  1.3215e-01,  1.3692e-07,\n",
            "          3.1761e-07,  5.8087e-07,  1.8257e-07, -2.2506e-02,  4.6722e-08,\n",
            "         -8.4175e-02, -3.2994e-01, -3.2403e-01,  7.3244e-02, -6.0899e-02,\n",
            "         -1.1007e-03, -9.6565e-04,  5.6938e-02,  3.6106e-02, -1.4646e-06],\n",
            "        [-4.2624e-06, -3.6189e-05, -1.4415e-02, -5.2207e-02, -5.0337e-40,\n",
            "         -6.1337e-40,  4.5489e-40,  2.1898e-39, -1.2274e-39, -2.4058e-03,\n",
            "         -2.8330e-39, -2.9286e-03, -2.4810e-02, -1.0509e-02, -1.8401e-40,\n",
            "         -4.5371e-39, -9.8835e-40, -7.6609e-40, -4.5390e-40,  1.9723e-39,\n",
            "         -1.0463e-05, -1.7938e-04, -1.7147e-02, -5.3596e-02, -9.4572e-14,\n",
            "         -3.7651e-39, -2.5093e-39, -2.1185e-41,  2.7201e-15,  2.2823e-39],\n",
            "        [-4.1893e-14, -2.8175e-25, -1.0642e-03, -1.9573e-02, -5.1784e-31,\n",
            "         -6.4337e-31,  1.0170e-31, -6.0813e-31,  4.6521e-31,  2.4963e-31,\n",
            "         -2.0612e-02,  1.3122e-29, -2.8436e-02, -1.0709e-04, -1.5322e-31,\n",
            "          2.9800e-31,  4.0228e-31, -1.3815e-31, -4.5618e-32,  9.1535e-33,\n",
            "         -9.9608e-12,  1.1504e-23, -1.9514e-03, -2.2216e-02, -1.6486e-31,\n",
            "         -1.3175e-30, -6.8508e-31,  6.6830e-31, -1.9930e-30, -6.5511e-31]],\n",
            "       requires_grad=True)\n"
          ]
        }
      ]
    },
    {
      "cell_type": "markdown",
      "metadata": {
        "id": "2Z4SxD2UNKnX"
      },
      "source": [
        "![image.png](data:image/png;base64,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)"
      ]
    },
    {
      "cell_type": "code",
      "metadata": {
        "colab": {
          "base_uri": "https://localhost:8080/"
        },
        "id": "xN9sS9VoODQg",
        "outputId": "61b1d187-9b78-4919-cdf1-a5895786265e"
      },
      "source": [
        "#bias da primeira camada de ligação (braços)\n",
        "bias0 = params[1]\n",
        "bias0.shape"
      ],
      "execution_count": 104,
      "outputs": [
        {
          "output_type": "execute_result",
          "data": {
            "text/plain": [
              "torch.Size([16])"
            ]
          },
          "metadata": {},
          "execution_count": 104
        }
      ]
    },
    {
      "cell_type": "code",
      "metadata": {
        "colab": {
          "base_uri": "https://localhost:8080/"
        },
        "id": "AfPtpaGVOLtn",
        "outputId": "903b08a6-f62c-4622-9a70-5fb5dcfebc49"
      },
      "source": [
        "#pesos da segunda camada de ligação (braços)\n",
        "pesos1 = params[2]\n",
        "pesos1.shape"
      ],
      "execution_count": 105,
      "outputs": [
        {
          "output_type": "execute_result",
          "data": {
            "text/plain": [
              "torch.Size([16, 16])"
            ]
          },
          "metadata": {},
          "execution_count": 105
        }
      ]
    },
    {
      "cell_type": "code",
      "metadata": {
        "colab": {
          "base_uri": "https://localhost:8080/"
        },
        "id": "zIRUTt0mOddK",
        "outputId": "b2468d71-6306-4436-e603-347548beee84"
      },
      "source": [
        "#bias da segunda camada de ligação (braços)\n",
        "bias1 = params[3]\n",
        "bias1.shape"
      ],
      "execution_count": 106,
      "outputs": [
        {
          "output_type": "execute_result",
          "data": {
            "text/plain": [
              "torch.Size([16])"
            ]
          },
          "metadata": {},
          "execution_count": 106
        }
      ]
    },
    {
      "cell_type": "code",
      "metadata": {
        "colab": {
          "base_uri": "https://localhost:8080/"
        },
        "id": "cKgkEvnrOtwB",
        "outputId": "e1c2cb86-3364-4770-dbc4-0434b2177fbc"
      },
      "source": [
        "#pesos da terceira camada de ligação (braços)\n",
        "pesos2 = params[4]\n",
        "pesos2.shape"
      ],
      "execution_count": 107,
      "outputs": [
        {
          "output_type": "execute_result",
          "data": {
            "text/plain": [
              "torch.Size([1, 16])"
            ]
          },
          "metadata": {},
          "execution_count": 107
        }
      ]
    },
    {
      "cell_type": "code",
      "metadata": {
        "colab": {
          "base_uri": "https://localhost:8080/"
        },
        "id": "HeZn_bmWPAB-",
        "outputId": "0cbd8648-0991-45c8-8146-39e7db008bcf"
      },
      "source": [
        "#bias da terceira camada de ligação (braços)\n",
        "bias2 = params[5]\n",
        "bias2.shape"
      ],
      "execution_count": 108,
      "outputs": [
        {
          "output_type": "execute_result",
          "data": {
            "text/plain": [
              "torch.Size([1])"
            ]
          },
          "metadata": {},
          "execution_count": 108
        }
      ]
    },
    {
      "cell_type": "markdown",
      "metadata": {
        "id": "NuODmkvFP9F-"
      },
      "source": [
        "Ressaltando que uma vez que a rede possui esses pesos, ela irá utilizá-los para fazer uma classificação"
      ]
    },
    {
      "cell_type": "markdown",
      "metadata": {
        "id": "Yi9Q8103QKDT"
      },
      "source": [
        ">### Etapa 7 - Avaliação do modelo"
      ]
    },
    {
      "cell_type": "code",
      "metadata": {
        "colab": {
          "base_uri": "https://localhost:8080/"
        },
        "id": "D087_BqfQUos",
        "outputId": "805344dd-dc53-429f-df49-4ee83f5ae761"
      },
      "source": [
        "#vamos colocar o classificador em modo de avaliação\n",
        "#ou seja, deixar de atualizar os pesos\n",
        "#pra isso chamamos o .eval\n",
        "classificador.eval()"
      ],
      "execution_count": 109,
      "outputs": [
        {
          "output_type": "execute_result",
          "data": {
            "text/plain": [
              "Sequential(\n",
              "  (0): Linear(in_features=30, out_features=16, bias=True)\n",
              "  (1): ReLU()\n",
              "  (2): Linear(in_features=16, out_features=16, bias=True)\n",
              "  (3): ReLU()\n",
              "  (4): Linear(in_features=16, out_features=1, bias=True)\n",
              "  (5): Sigmoid()\n",
              ")"
            ]
          },
          "metadata": {},
          "execution_count": 109
        }
      ]
    },
    {
      "cell_type": "code",
      "metadata": {
        "colab": {
          "base_uri": "https://localhost:8080/"
        },
        "id": "pH7HPRYQX9ib",
        "outputId": "e75bfb4d-4ba6-4b30-c803-b4c45fcfd1d1"
      },
      "source": [
        "type(previsores_teste)"
      ],
      "execution_count": 110,
      "outputs": [
        {
          "output_type": "execute_result",
          "data": {
            "text/plain": [
              "pandas.core.frame.DataFrame"
            ]
          },
          "metadata": {},
          "execution_count": 110
        }
      ]
    },
    {
      "cell_type": "code",
      "metadata": {
        "id": "L819U1AMYETL"
      },
      "source": [
        "#pandas--> numpy---> pythorc\n",
        "previsores_teste = torch.tensor(np.array(previsores_teste), dtype=torch.float)"
      ],
      "execution_count": 111,
      "outputs": []
    },
    {
      "cell_type": "code",
      "metadata": {
        "colab": {
          "base_uri": "https://localhost:8080/"
        },
        "id": "XcWUydZMZhb4",
        "outputId": "d08aebb9-5243-4893-e0f0-cd2cb5c16f02"
      },
      "source": [
        "type(previsores_teste)"
      ],
      "execution_count": 112,
      "outputs": [
        {
          "output_type": "execute_result",
          "data": {
            "text/plain": [
              "torch.Tensor"
            ]
          },
          "metadata": {},
          "execution_count": 112
        }
      ]
    },
    {
      "cell_type": "code",
      "metadata": {
        "id": "WuEdDJR4ZktL"
      },
      "source": [
        "previsoes = classificador.forward(previsores_teste)"
      ],
      "execution_count": 113,
      "outputs": []
    },
    {
      "cell_type": "code",
      "metadata": {
        "colab": {
          "base_uri": "https://localhost:8080/"
        },
        "id": "7JrIIWkzZtB1",
        "outputId": "76bcd00c-af4e-4353-94f1-8ff0a279b812"
      },
      "source": [
        "previsoes"
      ],
      "execution_count": 114,
      "outputs": [
        {
          "output_type": "execute_result",
          "data": {
            "text/plain": [
              "tensor([[1.0000e+00],\n",
              "        [1.0000e+00],\n",
              "        [5.7935e-03],\n",
              "        [1.0000e+00],\n",
              "        [2.1276e-07],\n",
              "        [9.9763e-01],\n",
              "        [9.9902e-01],\n",
              "        [1.0000e+00],\n",
              "        [9.7305e-01],\n",
              "        [9.9700e-01],\n",
              "        [1.0000e+00],\n",
              "        [1.0000e+00],\n",
              "        [1.1157e-01],\n",
              "        [1.0000e+00],\n",
              "        [1.0000e+00],\n",
              "        [8.0761e-01],\n",
              "        [1.0000e+00],\n",
              "        [1.0000e+00],\n",
              "        [9.8015e-01],\n",
              "        [1.0000e+00],\n",
              "        [3.0639e-17],\n",
              "        [3.3150e-09],\n",
              "        [8.9117e-01],\n",
              "        [1.0000e+00],\n",
              "        [9.9827e-01],\n",
              "        [2.5109e-02],\n",
              "        [9.9835e-01],\n",
              "        [1.0000e+00],\n",
              "        [1.0286e-16],\n",
              "        [1.0000e+00],\n",
              "        [9.5482e-01],\n",
              "        [9.9999e-01],\n",
              "        [9.8775e-01],\n",
              "        [1.0000e+00],\n",
              "        [5.9526e-02],\n",
              "        [1.0000e+00],\n",
              "        [9.8939e-01],\n",
              "        [1.0000e+00],\n",
              "        [1.0000e+00],\n",
              "        [3.4022e-04],\n",
              "        [1.3151e-03],\n",
              "        [9.9563e-01],\n",
              "        [6.5563e-22],\n",
              "        [1.9248e-01],\n",
              "        [7.5770e-11],\n",
              "        [9.8936e-01],\n",
              "        [8.9603e-10],\n",
              "        [6.5739e-37],\n",
              "        [9.9924e-01],\n",
              "        [3.5072e-03],\n",
              "        [9.4299e-01],\n",
              "        [8.6134e-30],\n",
              "        [1.0000e+00],\n",
              "        [9.9991e-01],\n",
              "        [1.0000e+00],\n",
              "        [9.6568e-01],\n",
              "        [1.0000e+00],\n",
              "        [6.2170e-09],\n",
              "        [7.9049e-21],\n",
              "        [9.9658e-01],\n",
              "        [6.2271e-06],\n",
              "        [1.0000e+00],\n",
              "        [1.0000e+00],\n",
              "        [1.0000e+00],\n",
              "        [9.7746e-01],\n",
              "        [4.2980e-12],\n",
              "        [1.0000e+00],\n",
              "        [1.0000e+00],\n",
              "        [1.0000e+00],\n",
              "        [9.6401e-01],\n",
              "        [1.0000e+00],\n",
              "        [9.9999e-01],\n",
              "        [2.4954e-02],\n",
              "        [9.8931e-01],\n",
              "        [1.0958e-04],\n",
              "        [9.9969e-01],\n",
              "        [9.9898e-01],\n",
              "        [2.3902e-16],\n",
              "        [3.5396e-06],\n",
              "        [2.1398e-05],\n",
              "        [8.9737e-01],\n",
              "        [2.6149e-11],\n",
              "        [3.1469e-12],\n",
              "        [1.0000e+00],\n",
              "        [1.0000e+00],\n",
              "        [1.0000e+00],\n",
              "        [2.9169e-01],\n",
              "        [1.0000e+00],\n",
              "        [1.1826e-01],\n",
              "        [3.5999e-02],\n",
              "        [5.3504e-03],\n",
              "        [9.9966e-01],\n",
              "        [1.0000e+00],\n",
              "        [2.9220e-04],\n",
              "        [1.0000e+00],\n",
              "        [1.0000e+00],\n",
              "        [1.0000e+00],\n",
              "        [1.0000e+00],\n",
              "        [6.2992e-06],\n",
              "        [1.0000e+00],\n",
              "        [1.0000e+00],\n",
              "        [1.0000e+00],\n",
              "        [1.0000e+00],\n",
              "        [1.0000e+00],\n",
              "        [1.0000e+00],\n",
              "        [1.0000e+00],\n",
              "        [1.0000e+00],\n",
              "        [1.0000e+00],\n",
              "        [1.0000e+00],\n",
              "        [1.0000e+00],\n",
              "        [1.0000e+00],\n",
              "        [1.0000e+00],\n",
              "        [9.5250e-01],\n",
              "        [1.3345e-11],\n",
              "        [7.7625e-02],\n",
              "        [1.4205e-06],\n",
              "        [1.0000e+00],\n",
              "        [7.8120e-06],\n",
              "        [1.0000e+00],\n",
              "        [1.0000e+00],\n",
              "        [4.8705e-04],\n",
              "        [1.0000e+00],\n",
              "        [1.0000e+00],\n",
              "        [1.0000e+00],\n",
              "        [1.8913e-24],\n",
              "        [1.0000e+00],\n",
              "        [1.3942e-15],\n",
              "        [1.3129e-03],\n",
              "        [1.0000e+00],\n",
              "        [1.0000e+00],\n",
              "        [2.2847e-26],\n",
              "        [1.0000e+00],\n",
              "        [1.0000e+00],\n",
              "        [5.2113e-04],\n",
              "        [1.2469e-10],\n",
              "        [1.0000e+00],\n",
              "        [1.0000e+00],\n",
              "        [1.0000e+00],\n",
              "        [7.8458e-05],\n",
              "        [1.3092e-07],\n",
              "        [3.6265e-03],\n",
              "        [1.0000e+00],\n",
              "        [9.8963e-24]], grad_fn=<SigmoidBackward>)"
            ]
          },
          "metadata": {},
          "execution_count": 114
        }
      ]
    },
    {
      "cell_type": "code",
      "metadata": {
        "id": "EVJnJwfQZt-0"
      },
      "source": [
        "#definindo um limiar das probabilidades\n",
        "previsoes = np.array(previsoes>0.5)"
      ],
      "execution_count": 115,
      "outputs": []
    },
    {
      "cell_type": "code",
      "metadata": {
        "colab": {
          "base_uri": "https://localhost:8080/"
        },
        "id": "WSfkttFdZ8pj",
        "outputId": "d4f60d7a-a304-43ea-a4a3-0960e27558de"
      },
      "source": [
        "previsoes"
      ],
      "execution_count": 116,
      "outputs": [
        {
          "output_type": "execute_result",
          "data": {
            "text/plain": [
              "array([[ True],\n",
              "       [ True],\n",
              "       [False],\n",
              "       [ True],\n",
              "       [False],\n",
              "       [ True],\n",
              "       [ True],\n",
              "       [ True],\n",
              "       [ True],\n",
              "       [ True],\n",
              "       [ True],\n",
              "       [ True],\n",
              "       [False],\n",
              "       [ True],\n",
              "       [ True],\n",
              "       [ True],\n",
              "       [ True],\n",
              "       [ True],\n",
              "       [ True],\n",
              "       [ True],\n",
              "       [False],\n",
              "       [False],\n",
              "       [ True],\n",
              "       [ True],\n",
              "       [ True],\n",
              "       [False],\n",
              "       [ True],\n",
              "       [ True],\n",
              "       [False],\n",
              "       [ True],\n",
              "       [ True],\n",
              "       [ True],\n",
              "       [ True],\n",
              "       [ True],\n",
              "       [False],\n",
              "       [ True],\n",
              "       [ True],\n",
              "       [ True],\n",
              "       [ True],\n",
              "       [False],\n",
              "       [False],\n",
              "       [ True],\n",
              "       [False],\n",
              "       [False],\n",
              "       [False],\n",
              "       [ True],\n",
              "       [False],\n",
              "       [False],\n",
              "       [ True],\n",
              "       [False],\n",
              "       [ True],\n",
              "       [False],\n",
              "       [ True],\n",
              "       [ True],\n",
              "       [ True],\n",
              "       [ True],\n",
              "       [ True],\n",
              "       [False],\n",
              "       [False],\n",
              "       [ True],\n",
              "       [False],\n",
              "       [ True],\n",
              "       [ True],\n",
              "       [ True],\n",
              "       [ True],\n",
              "       [False],\n",
              "       [ True],\n",
              "       [ True],\n",
              "       [ True],\n",
              "       [ True],\n",
              "       [ True],\n",
              "       [ True],\n",
              "       [False],\n",
              "       [ True],\n",
              "       [False],\n",
              "       [ True],\n",
              "       [ True],\n",
              "       [False],\n",
              "       [False],\n",
              "       [False],\n",
              "       [ True],\n",
              "       [False],\n",
              "       [False],\n",
              "       [ True],\n",
              "       [ True],\n",
              "       [ True],\n",
              "       [False],\n",
              "       [ True],\n",
              "       [False],\n",
              "       [False],\n",
              "       [False],\n",
              "       [ True],\n",
              "       [ True],\n",
              "       [False],\n",
              "       [ True],\n",
              "       [ True],\n",
              "       [ True],\n",
              "       [ True],\n",
              "       [False],\n",
              "       [ True],\n",
              "       [ True],\n",
              "       [ True],\n",
              "       [ True],\n",
              "       [ True],\n",
              "       [ True],\n",
              "       [ True],\n",
              "       [ True],\n",
              "       [ True],\n",
              "       [ True],\n",
              "       [ True],\n",
              "       [ True],\n",
              "       [ True],\n",
              "       [ True],\n",
              "       [False],\n",
              "       [False],\n",
              "       [False],\n",
              "       [ True],\n",
              "       [False],\n",
              "       [ True],\n",
              "       [ True],\n",
              "       [False],\n",
              "       [ True],\n",
              "       [ True],\n",
              "       [ True],\n",
              "       [False],\n",
              "       [ True],\n",
              "       [False],\n",
              "       [False],\n",
              "       [ True],\n",
              "       [ True],\n",
              "       [False],\n",
              "       [ True],\n",
              "       [ True],\n",
              "       [False],\n",
              "       [False],\n",
              "       [ True],\n",
              "       [ True],\n",
              "       [ True],\n",
              "       [False],\n",
              "       [False],\n",
              "       [False],\n",
              "       [ True],\n",
              "       [False]])"
            ]
          },
          "metadata": {},
          "execution_count": 116
        }
      ]
    },
    {
      "cell_type": "code",
      "metadata": {
        "colab": {
          "base_uri": "https://localhost:8080/",
          "height": 419
        },
        "id": "jlm3oGQpaNWy",
        "outputId": "ef37d8e0-3eb4-41c4-9cfb-08d67971d223"
      },
      "source": [
        "classe_teste"
      ],
      "execution_count": 117,
      "outputs": [
        {
          "output_type": "execute_result",
          "data": {
            "text/html": [
              "<div>\n",
              "<style scoped>\n",
              "    .dataframe tbody tr th:only-of-type {\n",
              "        vertical-align: middle;\n",
              "    }\n",
              "\n",
              "    .dataframe tbody tr th {\n",
              "        vertical-align: top;\n",
              "    }\n",
              "\n",
              "    .dataframe thead th {\n",
              "        text-align: right;\n",
              "    }\n",
              "</style>\n",
              "<table border=\"1\" class=\"dataframe\">\n",
              "  <thead>\n",
              "    <tr style=\"text-align: right;\">\n",
              "      <th></th>\n",
              "      <th>0</th>\n",
              "    </tr>\n",
              "  </thead>\n",
              "  <tbody>\n",
              "    <tr>\n",
              "      <th>333</th>\n",
              "      <td>1</td>\n",
              "    </tr>\n",
              "    <tr>\n",
              "      <th>273</th>\n",
              "      <td>1</td>\n",
              "    </tr>\n",
              "    <tr>\n",
              "      <th>201</th>\n",
              "      <td>0</td>\n",
              "    </tr>\n",
              "    <tr>\n",
              "      <th>178</th>\n",
              "      <td>1</td>\n",
              "    </tr>\n",
              "    <tr>\n",
              "      <th>85</th>\n",
              "      <td>0</td>\n",
              "    </tr>\n",
              "    <tr>\n",
              "      <th>...</th>\n",
              "      <td>...</td>\n",
              "    </tr>\n",
              "    <tr>\n",
              "      <th>230</th>\n",
              "      <td>0</td>\n",
              "    </tr>\n",
              "    <tr>\n",
              "      <th>282</th>\n",
              "      <td>0</td>\n",
              "    </tr>\n",
              "    <tr>\n",
              "      <th>535</th>\n",
              "      <td>0</td>\n",
              "    </tr>\n",
              "    <tr>\n",
              "      <th>436</th>\n",
              "      <td>1</td>\n",
              "    </tr>\n",
              "    <tr>\n",
              "      <th>236</th>\n",
              "      <td>0</td>\n",
              "    </tr>\n",
              "  </tbody>\n",
              "</table>\n",
              "<p>143 rows × 1 columns</p>\n",
              "</div>"
            ],
            "text/plain": [
              "     0\n",
              "333  1\n",
              "273  1\n",
              "201  0\n",
              "178  1\n",
              "85   0\n",
              "..  ..\n",
              "230  0\n",
              "282  0\n",
              "535  0\n",
              "436  1\n",
              "236  0\n",
              "\n",
              "[143 rows x 1 columns]"
            ]
          },
          "metadata": {},
          "execution_count": 117
        }
      ]
    },
    {
      "cell_type": "code",
      "metadata": {
        "colab": {
          "base_uri": "https://localhost:8080/"
        },
        "id": "srhOs-7raV2v",
        "outputId": "741aedbe-91cc-4277-ef15-ae2ac54574fd"
      },
      "source": [
        "taxa_acerto = accuracy_score(classe_teste, previsoes)\n",
        "taxa_acerto"
      ],
      "execution_count": 118,
      "outputs": [
        {
          "output_type": "execute_result",
          "data": {
            "text/plain": [
              "0.9090909090909091"
            ]
          },
          "metadata": {},
          "execution_count": 118
        }
      ]
    },
    {
      "cell_type": "code",
      "metadata": {
        "colab": {
          "base_uri": "https://localhost:8080/"
        },
        "id": "8U3NrLniafmq",
        "outputId": "53431449-4158-45cd-d9b1-a61604cc159a"
      },
      "source": [
        "matriz = confusion_matrix(classe_teste, previsoes)\n",
        "matriz"
      ],
      "execution_count": 119,
      "outputs": [
        {
          "output_type": "execute_result",
          "data": {
            "text/plain": [
              "array([[45,  9],\n",
              "       [ 4, 85]])"
            ]
          },
          "metadata": {},
          "execution_count": 119
        }
      ]
    },
    {
      "cell_type": "code",
      "metadata": {
        "colab": {
          "base_uri": "https://localhost:8080/",
          "height": 265
        },
        "id": "BAzQ64piaxz7",
        "outputId": "44ff0d13-e65d-4601-90b4-85a4e2b46346"
      },
      "source": [
        "sns.heatmap(matriz, annot=True);"
      ],
      "execution_count": 120,
      "outputs": [
        {
          "output_type": "display_data",
          "data": {
            "image/png": "[encoded data removed]",
            "text/plain": [
              "<Figure size 432x288 with 2 Axes>"
            ]
          },
          "metadata": {
            "needs_background": "light"
          }
        }
      ]
    },
    {
      "cell_type": "code",
      "metadata": {
        "id": "zJy_W0upa4az"
      },
      "source": [
        ""
      ],
      "execution_count": 120,
      "outputs": []
    }
  ]
}